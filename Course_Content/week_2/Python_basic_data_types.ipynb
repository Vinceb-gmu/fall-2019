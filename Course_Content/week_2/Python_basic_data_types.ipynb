{
 "cells": [
  {
   "cell_type": "code",
   "execution_count": null,
   "metadata": {},
   "outputs": [],
   "source": [
    "from IPython.core.interactiveshell import InteractiveShell\n",
    "InteractiveShell.ast_node_interactivity = \"all\""
   ]
  },
  {
   "cell_type": "markdown",
   "metadata": {},
   "source": [
    "# Agenda for this week\n",
    "* Tuesday\n",
    "    * Variables and Basic Data Types\n",
    "    * Quiz #1\n",
    "* Thursday\n",
    "    * Elementary mathematical models\n",
    "    * Computational problem solving\n",
    "    * Homework #1"
   ]
  },
  {
   "cell_type": "markdown",
   "metadata": {},
   "source": [
    "# Objects\n",
    "\n",
    "* It is said that everything in Python is an **object**\n",
    "* An **object** is an in-computer-memory representation of a **value**. \n",
    "* Each object is characterized by its **identity**, **type**, and **value**."
   ]
  },
  {
   "cell_type": "markdown",
   "metadata": {},
   "source": [
    "# Variables\n",
    "\n",
    "A  variable is a name __bound__ to an __object__ or more formally a __reference__ to an __object__. This association is referred to as [name binding](https://www.wikiwand.com/en/Name_binding). \n"
   ]
  },
  {
   "cell_type": "markdown",
   "metadata": {},
   "source": [
    "\n",
    "\n",
    "One binds a name to an object using the __assignment operator =__ and the resulting Python code is called an __assigment statement__.\n",
    "\n",
    "For example, the following code __binds__ the __name__ *x* to the object *2* (an integer whose value is 2) \n"
   ]
  },
  {
   "cell_type": "code",
   "execution_count": null,
   "metadata": {},
   "outputs": [],
   "source": [
    "x = 2  # variable x is defined to be 2"
   ]
  },
  {
   "cell_type": "markdown",
   "metadata": {},
   "source": [
    "After this assignment, the state of the Python interpreter is:\n",
    "\n",
    "x ---> 2\n",
    "\n",
    "It has one name (x) and one object (2).\n",
    "\n",
    "When you enter a name in Python, it gives you back the object bound to it.\n",
    "\n",
    "\\>\\>\\> x \\\n",
    "2"
   ]
  },
  {
   "cell_type": "code",
   "execution_count": null,
   "metadata": {},
   "outputs": [],
   "source": [
    "# Consider the following:\n",
    "x = 2\n",
    "y = x"
   ]
  },
  {
   "cell_type": "markdown",
   "metadata": {},
   "source": [
    "Following the execution of these statements, how many objects and how many references have been created?"
   ]
  },
  {
   "cell_type": "markdown",
   "metadata": {},
   "source": [
    "Answer: __One object, two references.__\n",
    "\n",
    "The first statement creates an integer object with value 2, and *x* is a reference to it. The second statement creates a second reference to the already existing object.\n",
    "\n",
    "x --> 2 <-- y"
   ]
  },
  {
   "cell_type": "markdown",
   "metadata": {},
   "source": [
    "Consider the following interactive session:\n",
    "\n",
    "```python\n",
    ">>> x = 8\n",
    ">>> y = x\n",
    ">>> x = 100\n",
    ">>> y\n",
    "```\n",
    "\n",
    "What is the value of y?\n"
   ]
  },
  {
   "cell_type": "markdown",
   "metadata": {},
   "source": [
    "#### Object id\n",
    "\n",
    "The value of x \"lives\" at some memory \"address\" on your computer. \n",
    "\n",
    "You can find the memory location using the intrinsic function __id()__"
   ]
  },
  {
   "cell_type": "code",
   "execution_count": null,
   "metadata": {},
   "outputs": [],
   "source": [
    "print(id(x))"
   ]
  },
  {
   "cell_type": "code",
   "execution_count": null,
   "metadata": {},
   "outputs": [],
   "source": [
    "x = 2\n",
    "print(id(x))"
   ]
  },
  {
   "cell_type": "code",
   "execution_count": null,
   "metadata": {},
   "outputs": [],
   "source": [
    "y = 1\n",
    "print(id(y))"
   ]
  },
  {
   "cell_type": "markdown",
   "metadata": {},
   "source": [
    "#### Object type\n",
    "\n",
    "An object's type can be determined using the __type()__ function"
   ]
  },
  {
   "cell_type": "code",
   "execution_count": null,
   "metadata": {},
   "outputs": [],
   "source": [
    "print(type(2))\n",
    "print(type(x))"
   ]
  },
  {
   "cell_type": "markdown",
   "metadata": {},
   "source": [
    "---\n",
    "### Variable names"
   ]
  },
  {
   "cell_type": "markdown",
   "metadata": {},
   "source": [
    "Variables take names that consist of any combination of letters (upper and lowercase), the underscore and digits.\n",
    "\n",
    "```python\n",
    "y0 = 1\n",
    "x_1 = 3.\n",
    "Kinetic_Energy = 0.5\n",
    "```\n",
    "\n",
    "Exceptions: \n",
    "* you cannot use [reserved keywords](https://docs.python.org/3.7/reference/lexical_analysis.html#keywords)\n",
    "* names cannot start with a digit\n",
    "\n"
   ]
  },
  {
   "cell_type": "code",
   "execution_count": null,
   "metadata": {},
   "outputs": [],
   "source": [
    "import = 3 # import is a reserved keyword"
   ]
  },
  {
   "cell_type": "code",
   "execution_count": null,
   "metadata": {},
   "outputs": [],
   "source": [
    "1var = 2 # cannot start variable name with a digit"
   ]
  },
  {
   "cell_type": "markdown",
   "metadata": {},
   "source": [
    "Beware:\n",
    "* Python is a case-sensitive language\n",
    "\n",
    "```python\n",
    "num_students = 12\n",
    "Num_students = 12\n",
    "num_Students = 12\n",
    "```\n",
    "are alll different variables!"
   ]
  },
  {
   "cell_type": "markdown",
   "metadata": {},
   "source": [
    "#### Always use good names for variables!\n",
    "\n",
    "```python\n",
    "c = 3e8 # bad\n",
    "speed_of_light = 3e8 # good\n",
    "```"
   ]
  },
  {
   "cell_type": "markdown",
   "metadata": {},
   "source": [
    "#### Remember that your code is meant to be readable!\n"
   ]
  },
  {
   "cell_type": "markdown",
   "metadata": {},
   "source": [
    "One way to enhance the readability of code is to add comments. Text following the symbol # is not interpreted by Python. For example, one might write\n",
    "\n",
    "```python\n",
    "s = 1 \n",
    "r = 1\n",
    "a1 = pi*r**2\n",
    "a2 = s**2\n",
    "d = a1 - a2\n",
    "```\n",
    "\n",
    "or, better:\n",
    "\n",
    "```python\n",
    "side = 1 #length of sides of a unit square\n",
    "radius = 1 #radius of a unit circle\n",
    "#subtract area of unit circle from area of unit square \n",
    "areaC = pi*radius**2\n",
    "areaS = side*side\n",
    "difference = areaS - areaC\n",
    "```"
   ]
  },
  {
   "cell_type": "markdown",
   "metadata": {},
   "source": [
    "# Basic Data Types"
   ]
  },
  {
   "cell_type": "markdown",
   "metadata": {},
   "source": [
    "- Numeric (integers and floats)\n",
    "- Boolean\n",
    "- String"
   ]
  },
  {
   "cell_type": "markdown",
   "metadata": {},
   "source": [
    "# Numeric types"
   ]
  },
  {
   "cell_type": "markdown",
   "metadata": {},
   "source": [
    "## <font color=\"red\"> Integers </font>"
   ]
  },
  {
   "cell_type": "code",
   "execution_count": null,
   "metadata": {},
   "outputs": [],
   "source": [
    "z = -1\n",
    "y = 27\n",
    "print(z)\n",
    "print(y)"
   ]
  },
  {
   "cell_type": "markdown",
   "metadata": {},
   "source": [
    "* There is no limit to how long an integer value can be.\n",
    "* The value is constrained by the amount of memory your system has."
   ]
  },
  {
   "cell_type": "code",
   "execution_count": null,
   "metadata": {},
   "outputs": [],
   "source": [
    "x = 123123123123123123123123123123123123123123123123\n",
    "print(x + 1)"
   ]
  },
  {
   "cell_type": "markdown",
   "metadata": {},
   "source": [
    "Python interprets a sequence of decimal digits without any prefix to be a __decimal number__:"
   ]
  },
  {
   "cell_type": "code",
   "execution_count": null,
   "metadata": {},
   "outputs": [],
   "source": [
    "print(10)"
   ]
  },
  {
   "cell_type": "markdown",
   "metadata": {},
   "source": [
    "The following strings can be prepended to an integer value to indicate a base other than 10:"
   ]
  },
  {
   "cell_type": "markdown",
   "metadata": {},
   "source": [
    "\n",
    "| Prefix |\tInterpretation\t| Base |\n",
    "| --- | --- | --- | \n",
    "| 0b (zero + lowercase letter 'b') | Binary| \t2|\n",
    "| 0B (zero + uppercase letter 'B')|\t \n",
    "| 0o (zero + lowercase letter 'o')|  Octal| \t8|\n",
    "| 0O (zero + uppercase letter 'O')|\n",
    "| 0x (zero + lowercase letter 'x')|  Hexadecimal| \t16|\n",
    "| 0X (zero + uppercase letter 'X')| \t"
   ]
  },
  {
   "cell_type": "code",
   "execution_count": null,
   "metadata": {},
   "outputs": [],
   "source": [
    "print(0o10)"
   ]
  },
  {
   "cell_type": "code",
   "execution_count": null,
   "metadata": {},
   "outputs": [],
   "source": [
    "print(0x10)"
   ]
  },
  {
   "cell_type": "code",
   "execution_count": null,
   "metadata": {},
   "outputs": [],
   "source": [
    "print(0b10)"
   ]
  },
  {
   "cell_type": "markdown",
   "metadata": {},
   "source": [
    "The underlying __type__ of a Python integer, irrespective of the base used to specify it, is called __int__:"
   ]
  },
  {
   "cell_type": "code",
   "execution_count": null,
   "metadata": {},
   "outputs": [],
   "source": [
    "type(10)"
   ]
  },
  {
   "cell_type": "code",
   "execution_count": null,
   "metadata": {},
   "outputs": [],
   "source": [
    "type(0o10)"
   ]
  },
  {
   "cell_type": "code",
   "execution_count": null,
   "metadata": {},
   "outputs": [],
   "source": [
    "type(0x10)"
   ]
  },
  {
   "cell_type": "markdown",
   "metadata": {},
   "source": [
    "### Integer Arithmetic"
   ]
  },
  {
   "cell_type": "code",
   "execution_count": null,
   "metadata": {},
   "outputs": [],
   "source": [
    "print(1 + 2)\n",
    "print(3 - 4)\n",
    "print(5 * 6)\n",
    "print(10 / 8)"
   ]
  },
  {
   "cell_type": "code",
   "execution_count": null,
   "metadata": {},
   "outputs": [],
   "source": [
    "# Floor division\n",
    "print(10 // 8)  "
   ]
  },
  {
   "cell_type": "markdown",
   "metadata": {},
   "source": [
    "Note that the floor division returns the integer part of the quotient."
   ]
  },
  {
   "cell_type": "code",
   "execution_count": null,
   "metadata": {},
   "outputs": [],
   "source": [
    "print(type(10 // 8))"
   ]
  },
  {
   "cell_type": "code",
   "execution_count": null,
   "metadata": {},
   "outputs": [],
   "source": [
    "# Modulo operator\n",
    "print(10 % 8)"
   ]
  },
  {
   "cell_type": "markdown",
   "metadata": {},
   "source": [
    "The % (modulo) operator yields the remainder from the division of the first argument by the second."
   ]
  },
  {
   "cell_type": "markdown",
   "metadata": {},
   "source": [
    "---"
   ]
  },
  {
   "cell_type": "markdown",
   "metadata": {},
   "source": [
    "## <font color=\"red\">Floating Point Numbers </font>"
   ]
  },
  {
   "cell_type": "markdown",
   "metadata": {},
   "source": [
    "* The __float__ type in Python designates a floating-point number. \n",
    "* Float values are specified with a decimal point. \n",
    "* The character e or E followed by a positive or negative integer may be appended to specify scientific notation."
   ]
  },
  {
   "cell_type": "code",
   "execution_count": null,
   "metadata": {},
   "outputs": [],
   "source": [
    "7.94"
   ]
  },
  {
   "cell_type": "code",
   "execution_count": null,
   "metadata": {},
   "outputs": [],
   "source": [
    "type(7.94)"
   ]
  },
  {
   "cell_type": "code",
   "execution_count": null,
   "metadata": {},
   "outputs": [],
   "source": [
    ".56"
   ]
  },
  {
   "cell_type": "code",
   "execution_count": null,
   "metadata": {},
   "outputs": [],
   "source": [
    "56."
   ]
  },
  {
   "cell_type": "code",
   "execution_count": null,
   "metadata": {},
   "outputs": [],
   "source": [
    "0.00000000006674"
   ]
  },
  {
   "cell_type": "code",
   "execution_count": null,
   "metadata": {},
   "outputs": [],
   "source": [
    "2.6e-5"
   ]
  },
  {
   "cell_type": "markdown",
   "metadata": {},
   "source": [
    "* Floating point numbers are represented __internally__ as binary (base-2) fractions. \n",
    "    * For more information see: binary [representation](https://en.wikipedia.org/wiki/Binary_number#Representation) of numbers.\n",
    "* Most decimal fractions cannot be represented exactly as binary fractions, so in most cases the internal representation of a floating-point number is an approximation of the actual value.\n",
    "\n",
    "What is the answer to:\n",
    "```python\n",
    "1.1 + 2.2 ?\n",
    "```"
   ]
  },
  {
   "cell_type": "code",
   "execution_count": null,
   "metadata": {},
   "outputs": [],
   "source": [
    "1.1 + 2.2"
   ]
  },
  {
   "cell_type": "markdown",
   "metadata": {},
   "source": [
    "For correctly-rounded arithmetic and configurable precision you may use the [decimal module](https://docs.python.org/3.7/library/decimal.html)"
   ]
  },
  {
   "cell_type": "code",
   "execution_count": null,
   "metadata": {},
   "outputs": [],
   "source": [
    "from decimal import Decimal as D\n",
    "# Output: Decimal('3.3')\n",
    "print(D('1.1') + D('2.2'))\n",
    "\n",
    "# Output: Decimal('3.000')\n",
    "print(D('1.2') * D('2.50'))"
   ]
  },
  {
   "cell_type": "markdown",
   "metadata": {},
   "source": [
    "#### Operations on Floats"
   ]
  },
  {
   "cell_type": "code",
   "execution_count": null,
   "metadata": {},
   "outputs": [],
   "source": [
    "print(int(1.3))   # gives 1  - truncation (not rounding)\n",
    "print(int(1.7))   # gives 1\n",
    "print(int(-1.3))  # gives -1\n",
    "print(int(-1.7))  # gives -1"
   ]
  },
  {
   "cell_type": "code",
   "execution_count": null,
   "metadata": {},
   "outputs": [],
   "source": [
    "print(round(1.3))   # gives 1  - rounding\n",
    "print(round(1.7))   # gives 2\n",
    "print(round(-1.3))  # gives -1\n",
    "print(round(-1.7))  # gives -2"
   ]
  },
  {
   "cell_type": "markdown",
   "metadata": {},
   "source": [
    "## <font color=\"red\">Complex Numbers</font>"
   ]
  },
  {
   "cell_type": "markdown",
   "metadata": {},
   "source": [
    "- A complex number consists of an ordered pair of real floating point numbers denoted by a + bj, where a is the real part and b is the imaginary part of the complex number."
   ]
  },
  {
   "cell_type": "code",
   "execution_count": null,
   "metadata": {},
   "outputs": [],
   "source": [
    "3.0 + 9j"
   ]
  },
  {
   "cell_type": "code",
   "execution_count": null,
   "metadata": {},
   "outputs": [],
   "source": [
    "type(3.0+9j)"
   ]
  },
  {
   "cell_type": "code",
   "execution_count": null,
   "metadata": {},
   "outputs": [],
   "source": [
    "a = complex(3.0,9)\n",
    "print(\"a = \", a)"
   ]
  },
  {
   "cell_type": "code",
   "execution_count": null,
   "metadata": {},
   "outputs": [],
   "source": [
    "print('Real Part =', a.real)\n",
    "print('Imaginary Part =', a.imag)\n",
    "print('Complex conjugate =', a.conjugate())"
   ]
  },
  {
   "cell_type": "code",
   "execution_count": null,
   "metadata": {},
   "outputs": [],
   "source": [
    "b = complex(1,2)\n",
    "print (\"a*a=\",a*a)\n",
    "print (\"a/b=\",a/b)\n",
    "print (\"a*a=\",a*a)"
   ]
  },
  {
   "cell_type": "markdown",
   "metadata": {},
   "source": [
    "## <font color=\"red\">Booleans</font>"
   ]
  },
  {
   "cell_type": "markdown",
   "metadata": {},
   "source": [
    "Boolean type may have one of two values, True or False:"
   ]
  },
  {
   "cell_type": "code",
   "execution_count": null,
   "metadata": {},
   "outputs": [],
   "source": [
    "T = True\n",
    "type(T)\n",
    "F = False\n",
    "type(F)"
   ]
  },
  {
   "cell_type": "markdown",
   "metadata": {},
   "source": [
    "### Logical operators\n",
    "The primitive operators on type **bool** are *and*, *or*, and *not*: \n",
    "* *a and b* is **True** if both a and b are **True**, and **False** otherwise.\n",
    "* *a or b* is **True** if at least one of a or b is **True**, and **False** otherwise. \n",
    "* *not a* is **True** if a is **False**, and **False** if a is **True**."
   ]
  },
  {
   "cell_type": "markdown",
   "metadata": {},
   "source": [
    "### Comparison operators\n",
    "\n",
    "The comparison operators are \n",
    "\n",
    "* == (equal)\n",
    "* != (notequal)\n",
    "* \\> (greater)\n",
    "* \\>= (at least)\n",
    "* < (less) \n",
    "* <= (at most)\n",
    "\n",
    "Output of operations with comparison operators evaluate to a __bool__ type:\n"
   ]
  },
  {
   "cell_type": "code",
   "execution_count": null,
   "metadata": {},
   "outputs": [],
   "source": [
    "(4-1) == (1+3)"
   ]
  },
  {
   "cell_type": "code",
   "execution_count": null,
   "metadata": {},
   "outputs": [],
   "source": [
    "3 != 2"
   ]
  },
  {
   "cell_type": "markdown",
   "metadata": {},
   "source": [
    "## <font color=\"red\">Strings</font>"
   ]
  },
  {
   "cell_type": "markdown",
   "metadata": {},
   "source": [
    "* Strings are __sequences__ of character data. \n",
    "* The string type in Python is called __str__.\n",
    "* String literals may be delimited using either single or double quotes.\n",
    "* All the characters between the opening delimiter and matching closing delimiter are part of the string.\n",
    "* <font color='blue'>Are immutable</font>."
   ]
  },
  {
   "cell_type": "code",
   "execution_count": null,
   "metadata": {},
   "outputs": [],
   "source": [
    "print(\"Python is fun!\")"
   ]
  },
  {
   "cell_type": "code",
   "execution_count": null,
   "metadata": {},
   "outputs": [],
   "source": [
    "type(\"Python is fun!\")"
   ]
  },
  {
   "cell_type": "markdown",
   "metadata": {},
   "source": [
    "* A string in Python can contain as many characters as you wish.\n",
    "* The only limit is your machine’s memory resources. "
   ]
  },
  {
   "cell_type": "code",
   "execution_count": null,
   "metadata": {},
   "outputs": [],
   "source": [
    "print(\"This string contains a single quote (') character.\")"
   ]
  },
  {
   "cell_type": "code",
   "execution_count": null,
   "metadata": {},
   "outputs": [],
   "source": [
    "print('This string contains a double quote (\") character.')"
   ]
  },
  {
   "cell_type": "markdown",
   "metadata": {},
   "source": [
    "<b> Escape Sequences in Strings </b>"
   ]
  },
  {
   "cell_type": "code",
   "execution_count": null,
   "metadata": {},
   "outputs": [],
   "source": [
    "print('This string contains a single quote (\\'* character.')"
   ]
  },
  {
   "cell_type": "code",
   "execution_count": null,
   "metadata": {},
   "outputs": [],
   "source": [
    "print(\"This string contains a double quote (\\\") character.\")"
   ]
  },
  {
   "cell_type": "code",
   "execution_count": null,
   "metadata": {},
   "outputs": [],
   "source": [
    "print('abc')\n",
    "print('a\\\n",
    "b\\\n",
    "c')"
   ]
  },
  {
   "cell_type": "code",
   "execution_count": null,
   "metadata": {},
   "outputs": [],
   "source": [
    "print('foo\\\\bar')"
   ]
  },
  {
   "cell_type": "markdown",
   "metadata": {},
   "source": [
    "#### Applying Special Meaning to Characters"
   ]
  },
  {
   "cell_type": "markdown",
   "metadata": {},
   "source": [
    "We want to represent escape sequences that are typically used to insert characters that are not readily generated from the keyboard or are not easily readable or printable.\n",
    "<P>\n",
    "Here is a list of escape sequences that cause Python to apply special meaning instead of interpreting literally:\n",
    "\n",
    "| Escape Sequence| “Escaped” Interpretation |\n",
    "| --- | --- |\n",
    "| \\a\t| ASCII Bell (BEL) character\n",
    "| \\b\t| ASCII Backspace (BS) character\n",
    "| \\f\t| ASCII Formfeed (FF) character\n",
    "| \\n\t| ASCII Linefeed (LF) character\n",
    "| \\N{<name>}| \tCharacter from Unicode database with given <name>\n",
    "| \\r\t| ASCII Carriage Return (CR) character\n",
    "| \\t\t| ASCII Horizontal Tab (TAB) character\n",
    "| \\uxxxx\t| Unicode character with 16-bit hex value xxxx\n",
    "| \\Uxxxxxxxx\t| Unicode character with 32-bit hex value xxxxxxxx\n",
    "| \\v\t| ASCII Vertical Tab (VT) character\n",
    "| \\ooo\t| Character with octal value ooo\n",
    "| \\xhh\t| Character with hex value hh\n",
    "    \n",
    "[ASCII](https://www.wikiwand.com/en/ASCII) stands for American Standard Code for Information Interchange.\\\n",
    "[Unicode standard](http://www.unicode.org/) defines values for over 128,000 characters."
   ]
  },
  {
   "cell_type": "code",
   "execution_count": null,
   "metadata": {},
   "outputs": [],
   "source": [
    "print(\"Start\\t-\\t-\\tEnd\")"
   ]
  },
  {
   "cell_type": "code",
   "execution_count": null,
   "metadata": {},
   "outputs": [],
   "source": [
    "print(\"\\141\", \"\\x61\")"
   ]
  },
  {
   "cell_type": "code",
   "execution_count": null,
   "metadata": {},
   "outputs": [],
   "source": [
    "print(\"a\\n\\tb \")"
   ]
  },
  {
   "cell_type": "code",
   "execution_count": null,
   "metadata": {},
   "outputs": [],
   "source": [
    "print('\\u2192 \\N{rightwards arrow}')"
   ]
  },
  {
   "cell_type": "markdown",
   "metadata": {},
   "source": [
    "#### Raw Strings"
   ]
  },
  {
   "cell_type": "markdown",
   "metadata": {},
   "source": [
    "- A raw string literal is preceded by r or R, which specifies that escape sequences in the associated string are not translated. \n",
    "- The backslash character is left in the string."
   ]
  },
  {
   "cell_type": "code",
   "execution_count": null,
   "metadata": {},
   "outputs": [],
   "source": [
    "print('foo\\nbar')"
   ]
  },
  {
   "cell_type": "code",
   "execution_count": null,
   "metadata": {},
   "outputs": [],
   "source": [
    "print(r'foo\\nbar')"
   ]
  },
  {
   "cell_type": "code",
   "execution_count": null,
   "metadata": {},
   "outputs": [],
   "source": [
    "print('foo\\\\bar')"
   ]
  },
  {
   "cell_type": "code",
   "execution_count": null,
   "metadata": {},
   "outputs": [],
   "source": [
    "print(R'foo\\\\bar')"
   ]
  },
  {
   "cell_type": "markdown",
   "metadata": {},
   "source": [
    "#### Triple Quotes"
   ]
  },
  {
   "cell_type": "markdown",
   "metadata": {},
   "source": [
    "- Triple-quoted strings are delimited by matching groups of three single quotes or three double quotes. \n",
    "- Escape sequences still work in triple-quoted strings, but single quotes, double quotes, and newlines can be included without escaping them. \n",
    "- Provide a convenient way to create a string with both single and double quotes in it."
   ]
  },
  {
   "cell_type": "code",
   "execution_count": null,
   "metadata": {},
   "outputs": [],
   "source": [
    "print('''This string has a single (') and a double (\") quote.''')"
   ]
  },
  {
   "cell_type": "code",
   "execution_count": null,
   "metadata": {},
   "outputs": [],
   "source": [
    "print(\"\"\"This is a\n",
    "string that spans\n",
    "across several lines\"\"\")"
   ]
  },
  {
   "cell_type": "markdown",
   "metadata": {},
   "source": [
    "### Accessing Values in Strings\n",
    "    - Python does not support a character type; these are treated as strings of length one, thus also considered a substring.\n",
    "    - To access substrings, use the square brackets for slicing along with the index or indices to obtain your substring"
   ]
  },
  {
   "cell_type": "code",
   "execution_count": null,
   "metadata": {},
   "outputs": [],
   "source": [
    "str1 = \"Welcome to CDS-230!\"\n",
    "str2 = \"A class that combines computation with science!\""
   ]
  },
  {
   "cell_type": "code",
   "execution_count": null,
   "metadata": {},
   "outputs": [],
   "source": [
    "print(str1[3:11])"
   ]
  },
  {
   "cell_type": "code",
   "execution_count": null,
   "metadata": {},
   "outputs": [],
   "source": [
    "print(str1[3:15:1])"
   ]
  },
  {
   "cell_type": "code",
   "execution_count": null,
   "metadata": {},
   "outputs": [],
   "source": [
    "print(str1[3:15:2])"
   ]
  },
  {
   "cell_type": "code",
   "execution_count": null,
   "metadata": {},
   "outputs": [],
   "source": [
    "print(str1[-1])"
   ]
  },
  {
   "cell_type": "markdown",
   "metadata": {},
   "source": [
    "#### Updating Strings\n",
    "You cannot modify a string for a string is __immutable__."
   ]
  },
  {
   "cell_type": "code",
   "execution_count": null,
   "metadata": {},
   "outputs": [],
   "source": [
    "str1[7] = 'X'"
   ]
  },
  {
   "cell_type": "markdown",
   "metadata": {},
   "source": [
    "You can __update__ an existing string by (re)assigning a variable to another string. "
   ]
  },
  {
   "cell_type": "code",
   "execution_count": null,
   "metadata": {},
   "outputs": [],
   "source": [
    "str1 = str1[0:7] + 'X' + str1[8:] # String concatenation\n",
    "print(str1)"
   ]
  },
  {
   "cell_type": "code",
   "execution_count": null,
   "metadata": {},
   "outputs": [],
   "source": [
    "str1 = str1[0:7]+' '+str1[8:]\n",
    "print(str1)"
   ]
  },
  {
   "cell_type": "code",
   "execution_count": null,
   "metadata": {},
   "outputs": [],
   "source": [
    "print(str1)\n",
    "print(str2)\n",
    "str3 = str1 + \" \" + str2[0] + \" \" + str2[39:]\n",
    "print(str3)"
   ]
  },
  {
   "cell_type": "code",
   "execution_count": null,
   "metadata": {},
   "outputs": [],
   "source": [
    "print(str1 * 2)\n",
    "print(\"Hodor! \" * 5)"
   ]
  },
  {
   "cell_type": "code",
   "execution_count": null,
   "metadata": {},
   "outputs": [],
   "source": [
    "print ( \"CDS\" in str1)\n",
    "print ( \"cds\" in str1)\n",
    "print ( \"cds\" not in str1)"
   ]
  },
  {
   "cell_type": "markdown",
   "metadata": {},
   "source": [
    "#### Built-in in String Operators"
   ]
  },
  {
   "cell_type": "code",
   "execution_count": null,
   "metadata": {},
   "outputs": [],
   "source": [
    "print(str1)\n",
    "print(len(str1))\n",
    "print(str1.index(\"o\"))"
   ]
  },
  {
   "cell_type": "code",
   "execution_count": null,
   "metadata": {},
   "outputs": [],
   "source": [
    "print(str1.index(\"o\"))\n",
    "print(str1.count(\"o\"))"
   ]
  },
  {
   "cell_type": "code",
   "execution_count": null,
   "metadata": {},
   "outputs": [],
   "source": [
    "print(str1.upper())\n",
    "print(str1.lower())"
   ]
  },
  {
   "cell_type": "code",
   "execution_count": null,
   "metadata": {},
   "outputs": [],
   "source": [
    "print(str1.startswith(\"Wel\"))\n",
    "print(str1.endswith(\".\"))"
   ]
  },
  {
   "cell_type": "markdown",
   "metadata": {},
   "source": [
    "## String Formatting\n",
    "\n",
    "### Using __str.format()__ \n",
    "\n",
    "* In this case one uses replacement fields - marked by curly braces - inside the string that is being formatted:"
   ]
  },
  {
   "cell_type": "code",
   "execution_count": null,
   "metadata": {},
   "outputs": [],
   "source": [
    "name = \"Albert\"\n",
    "age = 76\n",
    "\"Hello, {}. You are {}.\".format(name, age)"
   ]
  },
  {
   "cell_type": "markdown",
   "metadata": {},
   "source": [
    "You can reference variables in any order by referencing their index:"
   ]
  },
  {
   "cell_type": "code",
   "execution_count": null,
   "metadata": {},
   "outputs": [],
   "source": [
    "\"Hello, {1}. You are {0}.\".format(age, name)"
   ]
  },
  {
   "cell_type": "code",
   "execution_count": null,
   "metadata": {},
   "outputs": [],
   "source": [
    "q = \"quiz\"\n",
    "print(\"Big Announcement: {}#1 today \\n{} at 4:05\".format(q, 'Starting'))"
   ]
  },
  {
   "cell_type": "markdown",
   "metadata": {},
   "source": [
    "### Using f.strings\n",
    "\n",
    "* Also called “formatted string literals,” f-strings are string literals that have an f at the beginning and curly braces containing expressions that will be replaced with their values. \n",
    "\n",
    "Reference: https://www.python.org/dev/peps/pep-0498/#abstract"
   ]
  },
  {
   "cell_type": "code",
   "execution_count": null,
   "metadata": {},
   "outputs": [],
   "source": [
    "f\"Hello, {name}. You are {age}.\""
   ]
  },
  {
   "cell_type": "markdown",
   "metadata": {},
   "source": [
    "#### With f-strings you can do some nifty things - that are impossible with str.format():\n"
   ]
  },
  {
   "cell_type": "code",
   "execution_count": null,
   "metadata": {},
   "outputs": [],
   "source": [
    "# perform operations\n",
    "f\"{2 * 37}\""
   ]
  },
  {
   "cell_type": "code",
   "execution_count": null,
   "metadata": {},
   "outputs": [],
   "source": [
    "# call functions\n",
    "f\"{name.upper()} is smart.\""
   ]
  },
  {
   "cell_type": "markdown",
   "metadata": {},
   "source": [
    "---"
   ]
  },
  {
   "cell_type": "markdown",
   "metadata": {},
   "source": [
    "More parameters can be included within the curly braces of our syntax. Use the format code syntax {field_name:conversion}, where field_name specifies the index number of the argument to the str.format() method, and conversion refers to the conversion code of the data type.\n",
    "\n",
    "```\n",
    "s – strings\n",
    "d – decimal integers (base-10)\n",
    "f – floating point display\n",
    "c – character\n",
    "b – binary\n",
    "o – octal\n",
    "x – hexadecimal with lowercase letters after 9\n",
    "X – hexadecimal with uppercase letters after 9\n",
    "e – exponent notation\n",
    "```"
   ]
  },
  {
   "cell_type": "code",
   "execution_count": null,
   "metadata": {
    "slideshow": {
     "slide_type": "slide"
    }
   },
   "outputs": [],
   "source": [
    "# Convert base-10 decimal integers  \n",
    "# to floating point numeric constants \n",
    "print (\"This site is {0:f}% securely {1}!!\".format(100, \"encrypted\")) \n",
    "  \n",
    "# To limit the precision \n",
    "print (\"My average of this {0} was {1:.2f}%\".format(\"semester\", 78.234876)) \n",
    "  \n",
    "# For no decimal places \n",
    "print (\"My average of this {0} was {1:.0f}%\".format(\"semester\", 78.234876)) \n",
    "  \n",
    "# Convert an integer to its binary or \n",
    "# with other different converted bases. \n",
    "print(\"The {0} of 100 is {1:b}\".format(\"binary\", 100)) \n",
    "          \n",
    "print(\"The {0} of 100 is {1:o}\".format(\"octal\", 100)) "
   ]
  },
  {
   "cell_type": "code",
   "execution_count": null,
   "metadata": {},
   "outputs": [],
   "source": [
    "# To limit the precision \n",
    "print (f\"My average of this semester was {78.234876:.2f}%\")\n",
    "\n",
    "# For no decimal places \n",
    "print (f\"My average of this semester was {78.234876:.0f}%\")\n",
    "  \n",
    "# Convert an integer to its binary or \n",
    "# with other different converted bases. \n",
    "print(f\"The binary of 100 is {100:b}\")\n",
    "          \n",
    "print(f\"The octal of 100 is {100:o}\")\n"
   ]
  },
  {
   "cell_type": "markdown",
   "metadata": {},
   "source": [
    "## User input\n",
    "\n",
    "__input()__ can be used to get input directly from a user. It takes a string as an argument and displays it as a prompt in the shell. It then waits for the user to type something, followed by hitting the enter key. The line typed by the user is treated as a string and becomes the value returned by the function."
   ]
  },
  {
   "cell_type": "code",
   "execution_count": null,
   "metadata": {},
   "outputs": [],
   "source": [
    "name = input('Enter your name: ')  \n",
    "print(f'My name is {name}')"
   ]
  },
  {
   "cell_type": "code",
   "execution_count": null,
   "metadata": {},
   "outputs": [],
   "source": [
    "x = input('Enter a number: ')  # Careful: x will be a string\n",
    "print(x, ' is of type ',type (x))"
   ]
  },
  {
   "cell_type": "markdown",
   "metadata": {},
   "source": [
    "#### Solution: use type casting\n",
    "\n",
    "```python\n",
    "a = int(input())  # a is int\n",
    "x = float(input())  # x is float\n",
    "```"
   ]
  },
  {
   "cell_type": "markdown",
   "metadata": {},
   "source": [
    "---"
   ]
  },
  {
   "cell_type": "markdown",
   "metadata": {},
   "source": [
    "## Type Conversion"
   ]
  },
  {
   "cell_type": "code",
   "execution_count": null,
   "metadata": {},
   "outputs": [],
   "source": [
    "v1 = int(2.7) \n",
    "print(v1, type(v1)) "
   ]
  },
  {
   "cell_type": "code",
   "execution_count": null,
   "metadata": {},
   "outputs": [],
   "source": [
    "v2 = float(2)        # 2.0\n",
    "print(v2, type(v2)) "
   ]
  },
  {
   "cell_type": "markdown",
   "metadata": {},
   "source": [
    "What will happen here?\n",
    "```python\n",
    "float(\"2.7\")\n",
    "float(True)\n",
    "```"
   ]
  },
  {
   "cell_type": "code",
   "execution_count": null,
   "metadata": {},
   "outputs": [],
   "source": [
    "pi = 3.1415\n",
    "print(type(pi))  # float\n",
    "pi2str = str(pi)  # float -> str\n",
    "print(type(pi2str))  # str"
   ]
  },
  {
   "cell_type": "code",
   "execution_count": null,
   "metadata": {},
   "outputs": [],
   "source": [
    "int1 = 4\n",
    "float1 = int1 + 2.1 # int1 converted to float\n",
    "print(\"float1 = \", float1, \"\\n\")"
   ]
  },
  {
   "cell_type": "code",
   "execution_count": null,
   "metadata": {},
   "outputs": [],
   "source": [
    "str1 = \"My int:\" + int1 # Error: no implicit type conversion from int to string"
   ]
  },
  {
   "cell_type": "code",
   "execution_count": null,
   "metadata": {},
   "outputs": [],
   "source": [
    "str1 = \"My int:\" + str(int1)\n",
    "print(\"str1  = \", str1, \"\\n\")"
   ]
  }
 ],
 "metadata": {
  "anaconda-cloud": {},
  "kernelspec": {
   "display_name": "Python 3",
   "language": "python",
   "name": "python3"
  },
  "language_info": {
   "codemirror_mode": {
    "name": "ipython",
    "version": 3
   },
   "file_extension": ".py",
   "mimetype": "text/x-python",
   "name": "python",
   "nbconvert_exporter": "python",
   "pygments_lexer": "ipython3",
   "version": "3.7.3"
  }
 },
 "nbformat": 4,
 "nbformat_minor": 4
}
