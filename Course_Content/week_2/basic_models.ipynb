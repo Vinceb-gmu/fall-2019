{
 "cells": [
  {
   "cell_type": "markdown",
   "metadata": {},
   "source": [
    "# Quiz review"
   ]
  },
  {
   "cell_type": "markdown",
   "metadata": {},
   "source": [
    "* What is the output of 8/2*(2+2)? \n",
    "\n",
    "_16_\n",
    "\n",
    "* In Python, a variable must be __declared__ before it is assigned a value. \n",
    "\n",
    "_False_\n",
    "\n",
    "* In Python, a variable may be assigned a value of one type, and then later assigned a value of a different type. \n",
    "\n",
    "_True_\n",
    "\n",
    "* In Python 3, the maximum value for an integer is $2^{63} - 1$ \n",
    "\n",
    "_False_\n",
    "\n",
    "* How would you express the constant floating-point value $3.2 \\times 10^{-12}$ in Python. \n",
    "\n",
    "$3.2e-12$\n",
    "\n",
    "* Which of the following are valid ways to specify the string literal -hello world- in Python\n",
    "\n",
    "\n",
    "\"hello world\"\\\n",
    "'hello world'\\\n",
    "'''hello world'''\n",
    "\n",
    "\n",
    "* What is the output of the print statement?\n",
    "```python\n",
    "str = \"Hello world!\\n\"\n",
    "print(\"Length of str = {}\".format(len(str)))\n",
    "```\n",
    "\n",
    "Length of str = 13"
   ]
  },
  {
   "cell_type": "markdown",
   "metadata": {},
   "source": [
    "# Review"
   ]
  },
  {
   "cell_type": "markdown",
   "metadata": {},
   "source": [
    "### Modules and packages.\n",
    "\n",
    "* A module is a Python file\n",
    "* A package is a collection of Python modules"
   ]
  },
  {
   "cell_type": "markdown",
   "metadata": {
    "slideshow": {
     "slide_type": "slide"
    }
   },
   "source": [
    "## Importing modules"
   ]
  },
  {
   "cell_type": "markdown",
   "metadata": {
    "slideshow": {
     "slide_type": "slide"
    }
   },
   "source": [
    "Module contents are made available to the caller with the import statement.\n",
    "\n",
    "```python\n",
    "import math\n",
    "print(math)\n",
    "```\n",
    "\n",
    "Imports can be renamed to change the namespace:\n",
    "\n",
    "```python\n",
    "import math as m\n",
    "print(m)\n",
    "```\n",
    "\n",
    "You can import submodules directly:\n",
    "\n",
    "```python\n",
    "from math import sqrt\n",
    "print(sqrt)\n",
    "```\n",
    "\n",
    "This last case allows individual objects from the module to be imported - in this case __sqrt__."
   ]
  },
  {
   "cell_type": "code",
   "execution_count": 6,
   "metadata": {},
   "outputs": [
    {
     "data": {
      "text/plain": [
       "-1.0"
      ]
     },
     "execution_count": 6,
     "metadata": {},
     "output_type": "execute_result"
    }
   ],
   "source": [
    "math.cos(math.pi)"
   ]
  },
  {
   "cell_type": "code",
   "execution_count": 7,
   "metadata": {},
   "outputs": [],
   "source": [
    "import math as m\n"
   ]
  },
  {
   "cell_type": "code",
   "execution_count": 8,
   "metadata": {},
   "outputs": [
    {
     "data": {
      "text/plain": [
       "-1.0"
      ]
     },
     "execution_count": 8,
     "metadata": {},
     "output_type": "execute_result"
    }
   ],
   "source": [
    "m.cos(m.pi)"
   ]
  },
  {
   "cell_type": "markdown",
   "metadata": {
    "slideshow": {
     "slide_type": "slide"
    }
   },
   "source": [
    "## Interacting with your OS"
   ]
  },
  {
   "cell_type": "code",
   "execution_count": 9,
   "metadata": {
    "slideshow": {
     "slide_type": "subslide"
    }
   },
   "outputs": [],
   "source": [
    "import os"
   ]
  },
  {
   "cell_type": "code",
   "execution_count": 10,
   "metadata": {
    "slideshow": {
     "slide_type": "fragment"
    }
   },
   "outputs": [
    {
     "data": {
      "text/plain": [
       "'/Users/ccruz/Downloads/fall-2019-master/Course_Content/week_2'"
      ]
     },
     "execution_count": 10,
     "metadata": {},
     "output_type": "execute_result"
    }
   ],
   "source": [
    "os.getcwd()"
   ]
  },
  {
   "cell_type": "code",
   "execution_count": 11,
   "metadata": {},
   "outputs": [],
   "source": [
    "os.chdir('/Users/ccruz/Documents')"
   ]
  },
  {
   "cell_type": "code",
   "execution_count": 12,
   "metadata": {},
   "outputs": [
    {
     "data": {
      "text/plain": [
       "'/Users/ccruz/Documents'"
      ]
     },
     "execution_count": 12,
     "metadata": {},
     "output_type": "execute_result"
    }
   ],
   "source": [
    "os.getcwd()"
   ]
  },
  {
   "cell_type": "markdown",
   "metadata": {},
   "source": [
    "Note the use of __dot__ notation"
   ]
  },
  {
   "cell_type": "code",
   "execution_count": 13,
   "metadata": {
    "slideshow": {
     "slide_type": "subslide"
    }
   },
   "outputs": [],
   "source": [
    "import sys"
   ]
  },
  {
   "cell_type": "code",
   "execution_count": 14,
   "metadata": {
    "slideshow": {
     "slide_type": "fragment"
    }
   },
   "outputs": [
    {
     "data": {
      "text/plain": [
       "['/Users/ccruz/Downloads/fall-2019-master/Course_Content/week_2',\n",
       " '/Users/ccruz/anaconda3/lib/python37.zip',\n",
       " '/Users/ccruz/anaconda3/lib/python3.7',\n",
       " '/Users/ccruz/anaconda3/lib/python3.7/lib-dynload',\n",
       " '',\n",
       " '/Users/ccruz/anaconda3/lib/python3.7/site-packages',\n",
       " '/Users/ccruz/anaconda3/lib/python3.7/site-packages/aeosa',\n",
       " '/Users/ccruz/anaconda3/lib/python3.7/site-packages/IPython/extensions',\n",
       " '/Users/ccruz/.ipython']"
      ]
     },
     "execution_count": 14,
     "metadata": {},
     "output_type": "execute_result"
    }
   ],
   "source": [
    "sys.path # This prints the PYTHONPATH"
   ]
  },
  {
   "cell_type": "markdown",
   "metadata": {},
   "source": [
    "#### If using Windows you may see something like this:\n",
    "\n",
    "```\n",
    "[13]: import sys\n",
    "[14]: sys.path\n",
    "\n",
    "['', 'C:\\\\Users\\\\john\\\\Documents\\\\Python\\\\doc', 'C:\\\\Python37\\\\Lib\\\\idlelib',\n",
    "'C:\\\\Python37\\\\python37.zip', 'C:\\\\Python37\\\\DLLs', 'C:\\\\Python37\\\\lib',\n",
    "'C:\\\\Python37', 'C:\\\\Python37\\\\lib\\\\site-packages']\n",
    "```"
   ]
  },
  {
   "cell_type": "markdown",
   "metadata": {},
   "source": [
    "#### Modifying the PYTHONPATH"
   ]
  },
  {
   "cell_type": "markdown",
   "metadata": {
    "slideshow": {
     "slide_type": "subslide"
    }
   },
   "source": [
    "```python\n",
    "sys.path.append('/full/path/to/scripts')\n",
    "```"
   ]
  },
  {
   "cell_type": "markdown",
   "metadata": {},
   "source": [
    "## User input\n",
    "\n",
    "__input()__ can be used to get input directly from a user. It takes a string as an argument and displays it as a prompt in the shell. It then waits for the user to type something, followed by hitting the enter key. The line typed by the user is treated as a string and becomes the value returned by the function."
   ]
  },
  {
   "cell_type": "code",
   "execution_count": 15,
   "metadata": {},
   "outputs": [
    {
     "name": "stdin",
     "output_type": "stream",
     "text": [
      " 4\n"
     ]
    }
   ],
   "source": [
    "x = input()"
   ]
  },
  {
   "cell_type": "code",
   "execution_count": 16,
   "metadata": {},
   "outputs": [
    {
     "name": "stdin",
     "output_type": "stream",
     "text": [
      "Enter your name:  Carlos\n"
     ]
    },
    {
     "name": "stdout",
     "output_type": "stream",
     "text": [
      "My name is Carlos\n"
     ]
    }
   ],
   "source": [
    "name = input('Enter your name: ')  \n",
    "print(f'My name is {name}')"
   ]
  },
  {
   "cell_type": "code",
   "execution_count": 17,
   "metadata": {},
   "outputs": [
    {
     "name": "stdin",
     "output_type": "stream",
     "text": [
      "Enter a number:  4\n"
     ]
    },
    {
     "name": "stdout",
     "output_type": "stream",
     "text": [
      "4  is of type  <class 'str'>\n"
     ]
    }
   ],
   "source": [
    "x = input('Enter a number: ')  # Careful: x will be a string\n",
    "print(x, ' is of type ',type (x))"
   ]
  },
  {
   "cell_type": "markdown",
   "metadata": {},
   "source": [
    "#### Solution: use type casting\n",
    "\n",
    "```python\n",
    "a = int(input())  # a is int\n",
    "x = float(input())  # x is float\n",
    "```"
   ]
  },
  {
   "cell_type": "code",
   "execution_count": 18,
   "metadata": {},
   "outputs": [
    {
     "name": "stdin",
     "output_type": "stream",
     "text": [
      "Enter a number:  4\n"
     ]
    },
    {
     "name": "stdout",
     "output_type": "stream",
     "text": [
      "4  is of type  <class 'int'>\n"
     ]
    }
   ],
   "source": [
    "x = int(input('Enter a number: '))\n",
    "print(x, ' is of type ',type (x))"
   ]
  },
  {
   "cell_type": "markdown",
   "metadata": {},
   "source": [
    "---\n",
    "---\n",
    "---"
   ]
  },
  {
   "cell_type": "markdown",
   "metadata": {},
   "source": [
    "# Solving elementary computational models"
   ]
  },
  {
   "cell_type": "markdown",
   "metadata": {},
   "source": [
    "![](../week_1/images/modeling-simulation.png)"
   ]
  },
  {
   "cell_type": "markdown",
   "metadata": {},
   "source": [
    "![](images/m_to_c.png)"
   ]
  },
  {
   "cell_type": "markdown",
   "metadata": {},
   "source": [
    "A __computational model__ is a computer model that implements the solution to a __scientific problem__."
   ]
  },
  {
   "cell_type": "markdown",
   "metadata": {},
   "source": [
    "# Problem solving\n",
    "\n",
    "A general process of solving scientific problems involves the following steps:\n",
    "\n",
    "1. Understanding the problem\n",
    "2. Describing the problem in a clear, complete, and unambiguous form\n",
    "3. Designing a solution to the problem (algorithm)\n",
    "4. Developing a computer solution to the problem.\n",
    "5. Test\n",
    "\n",
    "These steps correspond to:\n",
    "\n",
    "* (1,2) = analysis\n",
    "* (3) = design\n",
    "* (4) = implementation\n",
    "* (5) = testing\n",
    "\n",
    "(see \"Course Notes\", Appendix B)."
   ]
  },
  {
   "cell_type": "markdown",
   "metadata": {},
   "source": [
    "# Temperature conversion\n",
    "\n",
    "The process of developing a computational model is illustrated in this section with an extremely simple problem: the temperature conversion problem.\n",
    "\n",
    "The mathematical representation of the solution to the problem is the formula expressing a temperature measurement F in Fahrenheit in terms of the temperature measurement C in\n",
    "Celsius:\n",
    "\n",
    "$ F = \\frac{9}{5}C+32 $\n",
    "\n",
    "Here C is a variable that represents the given temperature in degrees Celsius, and F is a derived variable, whose value depends on C."
   ]
  },
  {
   "cell_type": "code",
   "execution_count": 20,
   "metadata": {},
   "outputs": [
    {
     "name": "stdin",
     "output_type": "stream",
     "text": [
      "Enter temperature in Celsius: 0\n"
     ]
    },
    {
     "name": "stdout",
     "output_type": "stream",
     "text": [
      "When C = 0.0, F = 32.0\n"
     ]
    }
   ],
   "source": [
    "# Interact with the user\n",
    "C = float(input('Enter temperature in Celsius:'))\n",
    "\n",
    "# Compute solution\n",
    "F = (9/5)*C + 32\n",
    "\n",
    "# Output result\n",
    "print('When C = {}, F = {}'.format(C,F))\n",
    "# using f-strings\n",
    "#print(f'When C = {C}, F = {F}')"
   ]
  },
  {
   "cell_type": "markdown",
   "metadata": {},
   "source": [
    "# Solving a quadratic equation\n",
    "\n",
    "Consider the general quadratic equation \n",
    "\n",
    "$ ax^2 + bx + c = 0$ \n",
    "\n",
    "Task: write a program that solves the quadratic equation when the coefficients are a=2, b=1, c=2. \n",
    "\n",
    "### Solution\n",
    "\n",
    "#### Analysis\n",
    "\n",
    "We know the solutions are\n",
    "\n",
    "\\begin{equation}\n",
    "x_{1,2} = -b \\pm \\frac{\\sqrt[]{b^2-4ac}}{2a}\n",
    "\\end{equation}\n",
    "\n",
    "We are given that a=2, b=1 and c=2.\n",
    "\n",
    "#### Implementation"
   ]
  },
  {
   "cell_type": "code",
   "execution_count": 31,
   "metadata": {},
   "outputs": [
    {
     "ename": "ValueError",
     "evalue": "math domain error",
     "output_type": "error",
     "traceback": [
      "\u001b[0;31m---------------------------------------------------------------------------\u001b[0m",
      "\u001b[0;31mValueError\u001b[0m                                Traceback (most recent call last)",
      "\u001b[0;32m<ipython-input-31-df16e38e9bb4>\u001b[0m in \u001b[0;36m<module>\u001b[0;34m\u001b[0m\n\u001b[1;32m      2\u001b[0m \u001b[0;32mfrom\u001b[0m \u001b[0mmath\u001b[0m \u001b[0;32mimport\u001b[0m \u001b[0msqrt\u001b[0m\u001b[0;34m\u001b[0m\u001b[0;34m\u001b[0m\u001b[0m\n\u001b[1;32m      3\u001b[0m \u001b[0mD\u001b[0m \u001b[0;34m=\u001b[0m \u001b[0mb\u001b[0m\u001b[0;34m**\u001b[0m\u001b[0;36m2\u001b[0m \u001b[0;34m-\u001b[0m \u001b[0;36m4\u001b[0m\u001b[0;34m*\u001b[0m\u001b[0ma\u001b[0m\u001b[0;34m*\u001b[0m\u001b[0mc\u001b[0m\u001b[0;34m\u001b[0m\u001b[0;34m\u001b[0m\u001b[0m\n\u001b[0;32m----> 4\u001b[0;31m \u001b[0mx1\u001b[0m \u001b[0;34m=\u001b[0m \u001b[0;34m-\u001b[0m\u001b[0mb\u001b[0m \u001b[0;34m+\u001b[0m \u001b[0msqrt\u001b[0m\u001b[0;34m(\u001b[0m\u001b[0mD\u001b[0m\u001b[0;34m)\u001b[0m\u001b[0;34m/\u001b[0m\u001b[0;34m(\u001b[0m\u001b[0;36m2\u001b[0m\u001b[0;34m*\u001b[0m\u001b[0ma\u001b[0m\u001b[0;34m)\u001b[0m\u001b[0;34m\u001b[0m\u001b[0;34m\u001b[0m\u001b[0m\n\u001b[0m\u001b[1;32m      5\u001b[0m \u001b[0mx2\u001b[0m \u001b[0;34m=\u001b[0m \u001b[0;34m-\u001b[0m\u001b[0mb\u001b[0m \u001b[0;34m-\u001b[0m \u001b[0msqrt\u001b[0m\u001b[0;34m(\u001b[0m\u001b[0mD\u001b[0m\u001b[0;34m)\u001b[0m\u001b[0;34m/\u001b[0m\u001b[0;34m(\u001b[0m\u001b[0;36m2\u001b[0m\u001b[0;34m*\u001b[0m\u001b[0ma\u001b[0m\u001b[0;34m)\u001b[0m\u001b[0;34m\u001b[0m\u001b[0;34m\u001b[0m\u001b[0m\n\u001b[1;32m      6\u001b[0m \u001b[0;34m\u001b[0m\u001b[0m\n",
      "\u001b[0;31mValueError\u001b[0m: math domain error"
     ]
    }
   ],
   "source": [
    "a, b, c = 2 , 1, 2\n",
    "from math import sqrt \n",
    "D = b**2 - 4*a*c\n",
    "x1 = -b + sqrt(D)/(2*a)\n",
    "x2 = -b - sqrt(D)/(2*a)\n",
    "\n",
    "print(f'The solutions are {x1:.4f} and {x2:.4f}')"
   ]
  },
  {
   "cell_type": "code",
   "execution_count": 33,
   "metadata": {},
   "outputs": [
    {
     "name": "stdout",
     "output_type": "stream",
     "text": [
      "The solutions are -1.0000+0.9682j and -1.0000-0.9682j\n"
     ]
    }
   ],
   "source": [
    "a, b, c = 2 , 1, 2\n",
    "from cmath import sqrt # change from math to cmath to resolve ValueError\n",
    "D = b**2 - 4*a*c\n",
    "x1 = -b + sqrt(D)/(2*a)\n",
    "x2 = -b - sqrt(D)/(2*a)\n",
    "\n",
    "print(f'The solutions are {x1:.4f} and {x2:.4f}')"
   ]
  },
  {
   "cell_type": "markdown",
   "metadata": {},
   "source": [
    "Are these correct? Create a simple test to check our implementation"
   ]
  },
  {
   "cell_type": "code",
   "execution_count": 35,
   "metadata": {},
   "outputs": [
    {
     "name": "stdout",
     "output_type": "stream",
     "text": [
      "Discriminant: 4\n",
      "The solutions are -1.0000 and -3.0000\n"
     ]
    }
   ],
   "source": [
    "# Test with a simple case\n",
    "a = 1\n",
    "b = 2\n",
    "c = 0\n",
    "\n",
    "# We expect x1 = -b+sqrt(D)/2 = -2+1 = -1\n",
    "#           x2 = -b-sqrt(D)/2 = -2-1 = -3\n",
    "\n",
    "from math import sqrt\n",
    "D = b**2 - 4*a*c\n",
    "print('Discriminant:',D)\n",
    "x1 = -b + sqrt(D)/(2*a)\n",
    "x2 = -b - sqrt(D)/(2*a)\n",
    "\n",
    "print(f'The solutions are {x1:.4f} and {x2:.4f}')"
   ]
  },
  {
   "cell_type": "markdown",
   "metadata": {},
   "source": [
    "The solutions to the simple problem gives confidence that the original implementation is correct"
   ]
  },
  {
   "cell_type": "markdown",
   "metadata": {},
   "source": [
    "## Vertical motion\n",
    "\n",
    "A ball thrown up in the air is influenced by gravity, which is an acceleration. The acceleration is in the downwards direction at all times. When the ball is going upwards, the acceleration is still pointing down. \n",
    "\n",
    "The velocity and the acceleration are in opposite directions, and thus the ball slows down. Eventually, the ball starts coming back to the ground. It has reversed the direction of the velocity. The velocity and the acceleration are now in the same direction, and so the ball speeds up as it plummets.\n",
    "\n",
    "The equation of motion for an object under the influence of acceleration is,\n",
    "\n",
    "\\begin{equation}\n",
    "y_1 = y_0 + v_{y0}\\Delta{t} + \\frac{1}{2}a\\Delta{t^2}\\\\\n",
    "\\end{equation}\n",
    "\n",
    "where y0 is the starting position and y1 is the ending position. The $v_0y$ is the initial velocity in the y direction. This is the speed of the ball when it leaves the hand of the person throwing it up in the air. The acceleration is $a$ and the time is $\\Delta{t}$.\n",
    "\n",
    "In our particular case, the acceleration is due to gravity and so the generic acceleration variable, *a*, is replaced by *g*. On Earth the common value of the acceleration due to gravity is -9.8 $m/s^2$. The acceleration is negative because it is pointing down.\n",
    "\n",
    "This equation is for vertical motion with gravity, but it does not restrict the starting or stopping locations. In other words, this equation applies to other scenarios besides the ball being thrown in the air. It also applies to a dropped object. The only change is that the locations have $y_0 > y_1$."
   ]
  },
  {
   "cell_type": "markdown",
   "metadata": {},
   "source": [
    "### Time calculation\n",
    "\n",
    "Consider the task of calculating the amount of time required for an object to go from the initial position to the final position. So, rewrite\n",
    "\n",
    "\\begin{equation}\n",
    "y_1 = y_0 + v_{y0}\\Delta{t} + \\frac{1}{2}a\\Delta{t^2}\\\\\n",
    "\\end{equation}\n",
    "\n",
    "as\n",
    "\n",
    "\\begin{equation}\n",
    "\\frac{1}{2}a\\Delta{t^2} + v_{y0}\\Delta{t} + y_0 - y_1 = 0 \\\\\n",
    "\\end{equation}\n",
    "\n",
    "\n",
    "This is a quadratic equation with $x=t$\n",
    "\n",
    "\\begin{equation}\n",
    " at^2 + bt + c = 0\n",
    "\\end{equation}\n",
    "\n",
    "and\n",
    "\n",
    "$a \\equiv \\frac{1}{2}g$\n",
    "\n",
    "$b \\equiv v_{0y}$\n",
    "\n",
    "$c \\equiv y_0-y_1$\n",
    "\n",
    "Consider the case where the ball starts at a height of 0, and then it reaches a maximum height of 10m before turning around and coming back to the ground. What is the time the ball spends in the air?"
   ]
  },
  {
   "cell_type": "code",
   "execution_count": 28,
   "metadata": {},
   "outputs": [
    {
     "name": "stdout",
     "output_type": "stream",
     "text": [
      "Solutions: -1.4278431229270643 1.4278431229270643\n"
     ]
    }
   ],
   "source": [
    "from math import sqrt\n",
    "vy = 0\n",
    "g = -9.81\n",
    "y0 = 0\n",
    "y1 = 10\n",
    "D = sqrt( vy**2 + 2 * g * (y0-y1) ) # more efficient to calculate once\n",
    "t1 = (-vy + D )/g \n",
    "t2 = (-vy - D )/g\n",
    "print('Solutions:', t1,t2)\n"
   ]
  },
  {
   "cell_type": "markdown",
   "metadata": {},
   "source": [
    "In this example, there is only one time in which the ball is at a height of 10. Which one is it?\n",
    "\n",
    "The negatime time is an unphysical solution. The correct solution is t2.\n",
    "\n",
    "But t2 is the time for the ball to reach maximum height. So, the total time the balls spends in the air is 2*t2:"
   ]
  },
  {
   "cell_type": "code",
   "execution_count": 37,
   "metadata": {},
   "outputs": [
    {
     "name": "stdout",
     "output_type": "stream",
     "text": [
      "Total time ball spends in the air is 2.86 seconds\n"
     ]
    }
   ],
   "source": [
    "print(f'Total time ball spends in the air is {2*t2:.2f} seconds')\n"
   ]
  },
  {
   "cell_type": "markdown",
   "metadata": {},
   "source": [
    "# Projectile motion\n",
    "\n",
    "An __ideal projectile__ is any object that is released with some initial velocity and then moves only under the influence of gravitational acceleration, which is assumed to be constant and in the vertical downward direction.\n",
    "\n",
    "Ideal projectile motion neglects air resistance and wind speed, spin of the projectile, and other effects influencing the flight of real-life projectiles. \n",
    "\n",
    "Ideal projectile motion is a special case of two-dimensional motion that can be split into separate one-dimensional motions\n",
    "\n",
    "The kinematical equations for the x-direction are those for an object moving with constant velocity (also describes __linear motion__):\n",
    "\n",
    "\\begin{equation}\n",
    "x = x_0 + v_{x0}t\\\\\n",
    "v_x = v_{x0}\n",
    "\\end{equation}\n",
    "\n",
    "The kinematical equations for the y-direction are those for free-fall motion in one dimension:\n",
    "\n",
    "\\begin{equation}\n",
    "y = y_0 + v_{y0}t - \\frac{1}{2}gt^2\\\\\n",
    "v_y = v_{y0} - gt\n",
    "\\end{equation}\n",
    "\n",
    "\n",
    "__In creating a computer model of a system, it is important to understand the concepts of the model, but deep expertise is not required. The programmer needs to understand what the equations and variables represent, and they need to know when to use the equations. The are not required to understand the in-depth development of the equations as physicist do.__"
   ]
  },
  {
   "cell_type": "markdown",
   "metadata": {},
   "source": [
    "## Shoot the monkey\n",
    "\n",
    "Many physics lecture demonstrations illustrate that motion in the x-direction and motion in the y-direction are indeed independent of each other, as assumed in the derivation of the equations for projectile motion. One popular demonstration is called  “shoot the monkey,” motivated by the following story. A monkey has escaped from the zoo and has climbed a tree. The zookeeper wants to shoot the monkey with a tranquilizer dart in order to recapture it, but she knows that the monkey will let go of the branch it is holding onto at the sound of the gun firing. Her challenge is therefore to hit the monkey in the air as it is falling.\n",
    "\n",
    "### Problem\n",
    "Where does the zookeeper need to aim to hit the falling monkey?\n",
    "\n",
    "### Solution\n",
    "The zookeeper must aim directly at the monkey assuming that the time for the sound of the gun firing to reach the monkey is negligible and the speed of the dart is fast enough to cover the horizontal distance to the tree. As soon as the dart leaves the gun, it is in free fall, just like the monkey. Because both the monkey and the dart are in free fall, they fall with the same acceleration, independent of the dart’s motion in the x-direction and of the dart’s initial velocity. The dart and the monkey will meet at a point directly below the point from which the monkey dropped.\n",
    "\n",
    "![](images/monkey_and_the_hunter.png)\n",
    "\n"
   ]
  },
  {
   "cell_type": "code",
   "execution_count": null,
   "metadata": {},
   "outputs": [],
   "source": []
  }
 ],
 "metadata": {
  "kernelspec": {
   "display_name": "Python 3",
   "language": "python",
   "name": "python3"
  },
  "language_info": {
   "codemirror_mode": {
    "name": "ipython",
    "version": 3
   },
   "file_extension": ".py",
   "mimetype": "text/x-python",
   "name": "python",
   "nbconvert_exporter": "python",
   "pygments_lexer": "ipython3",
   "version": "3.7.3"
  }
 },
 "nbformat": 4,
 "nbformat_minor": 4
}
