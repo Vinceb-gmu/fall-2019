{
 "cells": [
  {
   "cell_type": "code",
   "execution_count": 8,
   "metadata": {
    "slideshow": {
     "slide_type": "skip"
    }
   },
   "outputs": [],
   "source": [
    "from IPython.core.interactiveshell import InteractiveShell\n",
    "InteractiveShell.ast_node_interactivity = \"all\""
   ]
  },
  {
   "cell_type": "markdown",
   "metadata": {
    "slideshow": {
     "slide_type": "slide"
    }
   },
   "source": [
    "## Dictionary"
   ]
  },
  {
   "cell_type": "markdown",
   "metadata": {
    "slideshow": {
     "slide_type": "fragment"
    }
   },
   "source": [
    "* A dictionary is an associative data structure of variable length.\n",
    "* Data is unordered, so elements are accessed by an associated key value.\n",
    "* <font color='blue'>mutable</font>."
   ]
  },
  {
   "cell_type": "markdown",
   "metadata": {},
   "source": [
    "#### Look-up table"
   ]
  },
  {
   "cell_type": "markdown",
   "metadata": {},
   "source": [
    "| Name | Age |\n",
    "| --- | --- |\n",
    "| \"Albert\" | 76 |\n",
    "| \"Isaac\" | 84 |\n",
    "| \"Emily\" | 53 |\n",
    "| \"Carl\" | 77 |"
   ]
  },
  {
   "cell_type": "markdown",
   "metadata": {
    "slideshow": {
     "slide_type": "slide"
    }
   },
   "source": [
    "### Initialization"
   ]
  },
  {
   "cell_type": "code",
   "execution_count": null,
   "metadata": {
    "slideshow": {
     "slide_type": "fragment"
    }
   },
   "outputs": [],
   "source": [
    "empty_dict = {}"
   ]
  },
  {
   "cell_type": "code",
   "execution_count": null,
   "metadata": {
    "slideshow": {
     "slide_type": "fragment"
    }
   },
   "outputs": [],
   "source": [
    "print(type(empty_dict))"
   ]
  },
  {
   "cell_type": "code",
   "execution_count": null,
   "metadata": {
    "slideshow": {
     "slide_type": "slide"
    }
   },
   "outputs": [],
   "source": [
    "# Equivalent ways of initializing a dictionary\n",
    "\n",
    "# 1\n",
    "daily_temps = {'mon': 70.2, 'tue': 67.2, 'wed': 71.8, 'thur': 73.2, 'fri': 75.6}\n",
    "daily_temps"
   ]
  },
  {
   "cell_type": "code",
   "execution_count": null,
   "metadata": {},
   "outputs": [],
   "source": [
    "# 2\n",
    "daily_temps = dict([('mon', 70.2), ('tue', 67.2), ('wed', 71.8), ('thur', 73.2), ('fri', 75.6)])\n",
    "daily_temps"
   ]
  },
  {
   "cell_type": "code",
   "execution_count": null,
   "metadata": {},
   "outputs": [],
   "source": [
    "# 3\n",
    "daily_temps = dict(mon=70.2, tue=67.2, wed=71.8, thur=73.2, fri=75.6)\n",
    "daily_temps"
   ]
  },
  {
   "cell_type": "code",
   "execution_count": null,
   "metadata": {},
   "outputs": [],
   "source": [
    "# 4\n",
    "days = ['mon', 'tue', 'wed','thu','fri']\n",
    "temps = [70.2, 67.2, 71.8, 73.2, 75.6]\n",
    "daily_temps = dict(zip(days, temps))\n",
    "daily_temps"
   ]
  },
  {
   "cell_type": "code",
   "execution_count": null,
   "metadata": {},
   "outputs": [],
   "source": []
  },
  {
   "cell_type": "markdown",
   "metadata": {
    "slideshow": {
     "slide_type": "notes"
    }
   },
   "source": [
    "__Note that you can use only immutable objects for the keys of a dictionary but you can use either immutable or mutable objects for the values of the dictionary.__ "
   ]
  },
  {
   "cell_type": "code",
   "execution_count": null,
   "metadata": {
    "slideshow": {
     "slide_type": "slide"
    }
   },
   "outputs": [],
   "source": [
    "# Access elements\n",
    "# Location at given key stores desired element in the dictionary. Square brackets are used for accessing elements:\n",
    "\n",
    "daily_temps['mon']"
   ]
  },
  {
   "cell_type": "code",
   "execution_count": null,
   "metadata": {
    "slideshow": {
     "slide_type": "fragment"
    }
   },
   "outputs": [],
   "source": [
    "daily_temps.keys()"
   ]
  },
  {
   "cell_type": "code",
   "execution_count": null,
   "metadata": {
    "slideshow": {
     "slide_type": "fragment"
    }
   },
   "outputs": [],
   "source": [
    "daily_temps.values()"
   ]
  },
  {
   "cell_type": "code",
   "execution_count": null,
   "metadata": {
    "slideshow": {
     "slide_type": "fragment"
    }
   },
   "outputs": [],
   "source": [
    "daily_temps.items()"
   ]
  },
  {
   "cell_type": "code",
   "execution_count": null,
   "metadata": {
    "slideshow": {
     "slide_type": "fragment"
    }
   },
   "outputs": [],
   "source": [
    "# How to check if a key exists in the dictionary\n",
    "\n",
    "'sun' in daily_temps"
   ]
  },
  {
   "cell_type": "markdown",
   "metadata": {
    "slideshow": {
     "slide_type": "slide"
    }
   },
   "source": [
    "## Set"
   ]
  },
  {
   "cell_type": "markdown",
   "metadata": {
    "slideshow": {
     "slide_type": "fragment"
    }
   },
   "source": [
    "* A sequence used to store non-duplicate data.\n",
    "* Data is unordered, accesed via indexing.\n",
    "* <font color='blue'>mutable</font>."
   ]
  },
  {
   "cell_type": "markdown",
   "metadata": {
    "slideshow": {
     "slide_type": "slide"
    }
   },
   "source": [
    "### Initialization"
   ]
  },
  {
   "cell_type": "code",
   "execution_count": null,
   "metadata": {
    "slideshow": {
     "slide_type": "fragment"
    }
   },
   "outputs": [],
   "source": [
    "empty_set = set()\n",
    "\n",
    "print(type(empty_set))"
   ]
  },
  {
   "cell_type": "code",
   "execution_count": null,
   "metadata": {
    "slideshow": {
     "slide_type": "fragment"
    }
   },
   "outputs": [],
   "source": [
    "# Can also declare a set using {}\n",
    "\n",
    "fibo = {1,2,3,5,8}\n",
    "some_primes = [2,2,3,5,7,7]\n",
    "primes = set(some_primes)"
   ]
  },
  {
   "cell_type": "code",
   "execution_count": null,
   "metadata": {
    "slideshow": {
     "slide_type": "fragment"
    }
   },
   "outputs": [],
   "source": [
    "fibo\n",
    "primes"
   ]
  },
  {
   "cell_type": "code",
   "execution_count": null,
   "metadata": {
    "slideshow": {
     "slide_type": "fragment"
    }
   },
   "outputs": [],
   "source": [
    "# Add elements to a set\n",
    "\n",
    "fibo.add(13)\n",
    "fibo"
   ]
  },
  {
   "cell_type": "markdown",
   "metadata": {
    "slideshow": {
     "slide_type": "slide"
    }
   },
   "source": [
    "### Mathematical set operations"
   ]
  },
  {
   "cell_type": "code",
   "execution_count": null,
   "metadata": {
    "slideshow": {
     "slide_type": "fragment"
    }
   },
   "outputs": [],
   "source": [
    "a = set([1, 2, 3, 4])\n",
    "b = set([3, 4, 5, 6])"
   ]
  },
  {
   "cell_type": "code",
   "execution_count": null,
   "metadata": {
    "slideshow": {
     "slide_type": "fragment"
    }
   },
   "outputs": [],
   "source": [
    "a | b # Union or a.union(b)"
   ]
  },
  {
   "cell_type": "code",
   "execution_count": null,
   "metadata": {
    "slideshow": {
     "slide_type": "fragment"
    }
   },
   "outputs": [],
   "source": [
    "a & b # Intersection  or a.intersection(b)"
   ]
  },
  {
   "cell_type": "code",
   "execution_count": null,
   "metadata": {
    "slideshow": {
     "slide_type": "fragment"
    }
   },
   "outputs": [],
   "source": [
    "a < b # Subset or a.issubset(b)"
   ]
  },
  {
   "cell_type": "code",
   "execution_count": null,
   "metadata": {
    "slideshow": {
     "slide_type": "fragment"
    }
   },
   "outputs": [],
   "source": [
    "a - b # Difference or a.difference(b)"
   ]
  },
  {
   "cell_type": "markdown",
   "metadata": {
    "slideshow": {
     "slide_type": "slide"
    }
   },
   "source": [
    "<font color='red'>Exercise<p></font>\n",
    "\n",
    "Transform the gettysburg_address string given below into a list, call it ga_word_list, whose elements are just the words in the text. How many words are there? \n",
    "\n",
    "#### Hint\n",
    "help(gettysburg_address.split)\n",
    "\n",
    "Answer: 271."
   ]
  },
  {
   "cell_type": "code",
   "execution_count": null,
   "metadata": {
    "slideshow": {
     "slide_type": "skip"
    }
   },
   "outputs": [],
   "source": [
    "gettysburg_address = \"\"\"\n",
    "Four score and seven years ago our fathers brought forth on this continent, \n",
    "a new nation, conceived in Liberty, and dedicated to the proposition that \n",
    "all men are created equal.\n",
    "\n",
    "Now we are engaged in a great civil war, testing whether that nation, or \n",
    "any nation so conceived and so dedicated, can long endure. We are met on\n",
    "a great battle-field of that war. We have come to dedicate a portion of\n",
    "that field, as a final resting place for those who here gave their lives\n",
    "that that nation might live. It is altogether fitting and proper that we\n",
    "should do this.\n",
    "\n",
    "But, in a larger sense, we can not dedicate -- we can not consecrate -- we\n",
    "can not hallow -- this ground. The brave men, living and dead, who struggled\n",
    "here, have consecrated it, far above our poor power to add or detract.  The\n",
    "world will little note, nor long remember what we say here, but it can never\n",
    "forget what they did here. It is for us the living, rather, to be dedicated\n",
    "here to the unfinished work which they who fought here have thus far so nobly\n",
    "advanced. It is rather for us to be here dedicated to the great task remaining\n",
    "before us -- that from these honored dead we take increased devotion to that\n",
    "cause for which they gave the last full measure of devotion -- that we here\n",
    "highly resolve that these dead shall not have died in vain -- that this\n",
    "nation, under God, shall have a new birth of freedom -- and that government\n",
    "of the people, by the people, for the people, shall not perish from the earth.\n",
    "\"\"\""
   ]
  },
  {
   "cell_type": "markdown",
   "metadata": {
    "slideshow": {
     "slide_type": "slide"
    }
   },
   "source": [
    "<font color='red'>Exercise<p></font>\n",
    "\n",
    "How many unique words are in the Gettysburg address?"
   ]
  },
  {
   "cell_type": "code",
   "execution_count": 11,
   "metadata": {},
   "outputs": [],
   "source": [
    "a, b, c = (1, 2, 3, 4, 5, 6, 7, 8, 9)[1::3]"
   ]
  },
  {
   "cell_type": "code",
   "execution_count": 12,
   "metadata": {},
   "outputs": [
    {
     "data": {
      "text/plain": [
       "5"
      ]
     },
     "execution_count": 12,
     "metadata": {},
     "output_type": "execute_result"
    }
   ],
   "source": [
    "b"
   ]
  },
  {
   "cell_type": "code",
   "execution_count": 16,
   "metadata": {},
   "outputs": [
    {
     "name": "stdout",
     "output_type": "stream",
     "text": [
      "['a', 'b', 'c', 'd']\n"
     ]
    }
   ],
   "source": [
    "D = (1,2,3,['a','b','c'])\n",
    "\n",
    "D[3].append('d')\n",
    "\n",
    "print(D[3])"
   ]
  },
  {
   "cell_type": "code",
   "execution_count": null,
   "metadata": {},
   "outputs": [],
   "source": []
  }
 ],
 "metadata": {
  "kernelspec": {
   "display_name": "Python 3",
   "language": "python",
   "name": "python3"
  },
  "language_info": {
   "codemirror_mode": {
    "name": "ipython",
    "version": 3
   },
   "file_extension": ".py",
   "mimetype": "text/x-python",
   "name": "python",
   "nbconvert_exporter": "python",
   "pygments_lexer": "ipython3",
   "version": "3.7.3"
  }
 },
 "nbformat": 4,
 "nbformat_minor": 4
}
