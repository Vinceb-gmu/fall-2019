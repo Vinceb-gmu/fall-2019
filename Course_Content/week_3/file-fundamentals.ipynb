{
 "cells": [
  {
   "cell_type": "markdown",
   "metadata": {},
   "source": [
    "# Creating, Maintaining and Running Python programs"
   ]
  },
  {
   "cell_type": "markdown",
   "metadata": {},
   "source": [
    "## Files and directory structure\n",
    "    \n",
    "You need to know how files and directories are named in your particular OS. Example of OSs are: Windows, OSX (Mac), Linux(e.g. Ubuntu). In Windows there is a \"File Manager\" that allows you to see files and directories. For example:\n",
    "        \n",
    "![Windows](https://i2.wp.com/www.nextofwindows.com/wp-content/uploads/2015/11/File-Explorer-run-cmd-tree-to-export-a-folder-structure.png)\n",
    "    \n",
    "However, this is just an \"interface\". To dig a little deeper you need the command prompt (Windows) or terminal (Mac, Linux)\n",
    "    \n",
    "![Command prompt](images/cmd.png)\n",
    "\n",
    "Here the user can type in commands.\n",
    "\n",
    "When you click on buttons in your File Manager – it generates commands\n",
    "    \n",
    "Examples of \"commands\" you can type on your terminal:\n",
    "    \n",
    "    dir (Windows): view contents of directory\n",
    "    ls  (Mac/Linux)\n",
    "    \n",
    "    cd : change directory\n",
    "    \n",
    "    mkdir: create a directory\n",
    "    \n"
   ]
  },
  {
   "cell_type": "markdown",
   "metadata": {},
   "source": [
    "## Creating (writing) Python programs\n",
    " \n",
    "1. **Recommended**: Use Spyder IDE\n",
    "2. **Alternative #1**: Use Jupyter, then cut-paste into a file\n",
    "3. **Alternative #2**: Use your favorite **editor**. If so, you need to use a good text **editor**. Do not use Microsoft Word!\n"
   ]
  },
  {
   "cell_type": "markdown",
   "metadata": {},
   "source": [
    "## Maintaining Python programs\n",
    "\n",
    "1. Be organized\n",
    "\n",
    "![Command prompt](images/dir_struct.png)\n",
    "\n",
    "2. Maintaining source code can be tricky - just make sure that you use a good naming convention and some type of version control. If you can spare the time then the best tool is **Git** . You can learn the basics from one of many online tutorials or from the documentation.\n",
    "\n",
    "One of the best tutorials for Mac users:\n",
    "\n",
    "https://www.youtube.com/watch?v=HVsySz-h9r4&t=1245s\n",
    "\n",
    "Note that the lecture material is maintained in a **Git** repository. As I said before you do not need to know **Git** to get the lecture material but it may be a good investment to put it the effort and learn the basics\n",
    "\n"
   ]
  },
  {
   "cell_type": "markdown",
   "metadata": {},
   "source": [
    "## Running Python programs\n",
    "\n",
    "1. Use Spyder IDE\n",
    "2. Use Jupyter\n",
    "3. Run from a terminal"
   ]
  }
 ],
 "metadata": {
  "kernelspec": {
   "display_name": "Python 3",
   "language": "python",
   "name": "python3"
  },
  "language_info": {
   "codemirror_mode": {
    "name": "ipython",
    "version": 3
   },
   "file_extension": ".py",
   "mimetype": "text/x-python",
   "name": "python",
   "nbconvert_exporter": "python",
   "pygments_lexer": "ipython3",
   "version": "3.7.3"
  }
 },
 "nbformat": 4,
 "nbformat_minor": 2
}
