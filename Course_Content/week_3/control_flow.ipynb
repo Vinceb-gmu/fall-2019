{
 "cells": [
  {
   "cell_type": "code",
   "execution_count": 8,
   "metadata": {
    "slideshow": {
     "slide_type": "skip"
    }
   },
   "outputs": [],
   "source": [
    "from IPython.core.interactiveshell import InteractiveShell\n",
    "InteractiveShell.ast_node_interactivity = \"all\""
   ]
  },
  {
   "cell_type": "markdown",
   "metadata": {},
   "source": [
    "### Logical operators\n",
    "\n",
    "```python\n",
    "and           \n",
    "or\n",
    "not\n",
    "```\n",
    "\n",
    "| A | B | A and B | A or B | not A| not B|\n",
    "|:---:|:---:|:---:|:---:|:---:|:---:|\n",
    "| T | T | T | T |  F | T |\n",
    "| T | F | F | T |  F | T |\n",
    "| F | T | F | T |  T | F |\n",
    "| F | F | F | F |  T | F |\n",
    "\n",
    "Logical expression evaluate to either <font color='blue'>True</font> or <font color='blue'>False</font>. \n"
   ]
  },
  {
   "cell_type": "code",
   "execution_count": 1,
   "metadata": {},
   "outputs": [
    {
     "name": "stdout",
     "output_type": "stream",
     "text": [
      "True\n",
      "False\n",
      "True\n"
     ]
    }
   ],
   "source": [
    "print(True or False)\n",
    "print(not True)\n",
    "print(True and not False)"
   ]
  },
  {
   "cell_type": "markdown",
   "metadata": {},
   "source": [
    "### Comparison operators\n",
    "\n",
    "The comparison operators are \n",
    "\n",
    "* == (equal)\n",
    "* != (notequal)\n",
    "* \\> (greater)\n",
    "* \\>= (at least)\n",
    "* < (less) \n",
    "* <= (at most)\n",
    "\n",
    "Output of operations with comparison operators evaluate to a __bool__ type:\n"
   ]
  },
  {
   "cell_type": "code",
   "execution_count": 7,
   "metadata": {
    "slideshow": {
     "slide_type": "fragment"
    }
   },
   "outputs": [
    {
     "name": "stdout",
     "output_type": "stream",
     "text": [
      "<class 'bool'>\n"
     ]
    }
   ],
   "source": [
    "x = 4\n",
    "print(type(x<4))"
   ]
  },
  {
   "cell_type": "markdown",
   "metadata": {
    "slideshow": {
     "slide_type": "slide"
    }
   },
   "source": [
    "__Membership operators__\n",
    "```python\n",
    "in\n",
    "not in\n",
    "```\n",
    "__Identity operators__\n",
    "```python\n",
    "is\n",
    "is not\n",
    "```"
   ]
  },
  {
   "cell_type": "code",
   "execution_count": null,
   "metadata": {
    "slideshow": {
     "slide_type": "fragment"
    }
   },
   "outputs": [],
   "source": [
    "'n' in 'Python'"
   ]
  },
  {
   "cell_type": "code",
   "execution_count": null,
   "metadata": {
    "slideshow": {
     "slide_type": "fragment"
    }
   },
   "outputs": [],
   "source": [
    "x = 5.2\n",
    "type(x) is int"
   ]
  },
  {
   "cell_type": "markdown",
   "metadata": {},
   "source": [
    "__Bitwise operators__ (optional)\n",
    "\n",
    "Bitwise operators are used to compare integers in their binary formats.\n",
    "\n",
    "When performing a binary operations between 2 integers, there are first converted into binary numbers.\n"
   ]
  },
  {
   "cell_type": "code",
   "execution_count": 5,
   "metadata": {},
   "outputs": [
    {
     "name": "stdout",
     "output_type": "stream",
     "text": [
      "Binary AND: a & b is  12\n",
      "Binary OR: a | b is  61\n",
      "Binary XOR: a ^ b is  49\n",
      "Binary ONES COMPLEMENT: ~a is  -61\n",
      "Binary LEFT SHIFT: a << 2 is  240\n",
      "Binary RIGHT SHIFT: a >> 2 is  15\n"
     ]
    }
   ],
   "source": [
    "a = 60            # 60 = 0011 1100 \n",
    "b = 13            # 13 = 0000 1101 \n",
    "c = 0\n",
    "\n",
    "c = a & b;        # 12 = 0000 1100\n",
    "print(\"Binary AND: a & b is \", c)\n",
    "\n",
    "c = a | b;        # 61 = 0011 1101 \n",
    "print(\"Binary OR: a | b is \", c)\n",
    "\n",
    "c = a ^ b;        # 49 = 0011 0001\n",
    "print(\"Binary XOR: a ^ b is \", c)\n",
    "\n",
    "c = ~a;           # -61 = 1100 0011\n",
    "print(\"Binary ONES COMPLEMENT: ~a is \", c)\n",
    "\n",
    "c = a << 2;       # 240 = 1111 0000\n",
    "print(\"Binary LEFT SHIFT: a << 2 is \", c)\n",
    "\n",
    "c = a >> 2;       # 15 = 0000 1111\n",
    "print(\"Binary RIGHT SHIFT: a >> 2 is \", c)"
   ]
  },
  {
   "cell_type": "markdown",
   "metadata": {
    "slideshow": {
     "slide_type": "slide"
    }
   },
   "source": [
    "__Operator precedence__ (left-to-right)\n",
    "\n",
    "    ** (exponentiation)\n",
    "    *, /, %   (multiplication, division, modulo)\n",
    "    +, -   (addition, subtraction)\n",
    "    <, >, <=, >=, !=, == (comparison)\n",
    "    <<, >>, & , ^, | (bitwise)\n",
    "    is, is not  (comparison)\n",
    "    in, not in  (comparison)\n",
    "    not, and, or  (boolean)"
   ]
  },
  {
   "cell_type": "code",
   "execution_count": 2,
   "metadata": {
    "slideshow": {
     "slide_type": "fragment"
    }
   },
   "outputs": [
    {
     "data": {
      "text/plain": [
       "False"
      ]
     },
     "execution_count": 2,
     "metadata": {},
     "output_type": "execute_result"
    }
   ],
   "source": [
    "10 < 0 and not 10 > 2"
   ]
  },
  {
   "cell_type": "code",
   "execution_count": null,
   "metadata": {
    "slideshow": {
     "slide_type": "fragment"
    }
   },
   "outputs": [],
   "source": [
    "not (10 < 0 or 10 > 20)"
   ]
  },
  {
   "cell_type": "markdown",
   "metadata": {
    "slideshow": {
     "slide_type": "slide"
    }
   },
   "source": [
    "__In Python every object has a boolean value__."
   ]
  },
  {
   "cell_type": "code",
   "execution_count": 11,
   "metadata": {
    "slideshow": {
     "slide_type": "fragment"
    }
   },
   "outputs": [
    {
     "name": "stdout",
     "output_type": "stream",
     "text": [
      "\"Hello\" evaluates to True\n",
      "\"\" evaluates to False\n",
      "\"test\" and \"test\" evaluates to True\n",
      "2018 evaluates to True\n",
      "0 evaluates to False\n"
     ]
    }
   ],
   "source": [
    "print('\"Hello\" evaluates to {}'.format(bool(\"Hello\")))\n",
    "print('\"\" evaluates to {}'.format(bool(\"\")))\n",
    "print('\"test\" and \"test\" evaluates to {}'.format(bool(\"test\" and \"test\")))\n",
    "print('2018 evaluates to {}'.format(bool(2018)))\n",
    "print('0 evaluates to {}'.format(bool(0)))"
   ]
  },
  {
   "cell_type": "markdown",
   "metadata": {
    "slideshow": {
     "slide_type": "fragment"
    }
   },
   "source": [
    "__All integers evaluate to True, except 0 which evaluates to False__  \n",
    "\n",
    "__All strings evaluate to True, except the empty string__"
   ]
  },
  {
   "cell_type": "code",
   "execution_count": 9,
   "metadata": {
    "slideshow": {
     "slide_type": "slide"
    }
   },
   "outputs": [
    {
     "data": {
      "text/plain": [
       "1"
      ]
     },
     "execution_count": 9,
     "metadata": {},
     "output_type": "execute_result"
    },
    {
     "data": {
      "text/plain": [
       "0"
      ]
     },
     "execution_count": 9,
     "metadata": {},
     "output_type": "execute_result"
    },
    {
     "data": {
      "text/plain": [
       "1"
      ]
     },
     "execution_count": 9,
     "metadata": {},
     "output_type": "execute_result"
    },
    {
     "data": {
      "text/plain": [
       "10"
      ]
     },
     "execution_count": 9,
     "metadata": {},
     "output_type": "execute_result"
    }
   ],
   "source": [
    "1 and 1\n",
    "0 and \"test\"\n",
    "False or 1\n",
    "True and 10 or not 0"
   ]
  },
  {
   "cell_type": "markdown",
   "metadata": {
    "slideshow": {
     "slide_type": "slide"
    }
   },
   "source": [
    "# Control flow"
   ]
  },
  {
   "cell_type": "markdown",
   "metadata": {
    "slideshow": {
     "slide_type": "subslide"
    }
   },
   "source": [
    "Programs must have some mechanism to manage how and when instructions are executed.\n",
    "\n",
    "Python has three __control flow__ structures:\n",
    "* if\n",
    "* for\n",
    "* while\n"
   ]
  },
  {
   "cell_type": "markdown",
   "metadata": {
    "slideshow": {
     "slide_type": "slide"
    }
   },
   "source": [
    "## If-Then-Else\n",
    "\n",
    "If statement is a __selection control statement__ based on the value of a logical expression"
   ]
  },
  {
   "cell_type": "markdown",
   "metadata": {
    "slideshow": {
     "slide_type": "slide"
    }
   },
   "source": [
    "Unary selection\n",
    "\n",
    "```cython\n",
    "if condition:                                      # HEADER\n",
    "    Python code that runs iff condition is True    # CLAUSE\n",
    "    Proper indentation is critical    \n",
    "```"
   ]
  },
  {
   "cell_type": "code",
   "execution_count": 12,
   "metadata": {
    "slideshow": {
     "slide_type": "fragment"
    }
   },
   "outputs": [
    {
     "name": "stdout",
     "output_type": "stream",
     "text": [
      "a is non-zero\n"
     ]
    }
   ],
   "source": [
    "y = -2\n",
    "a = y < 1\n",
    "if a:\n",
    "    print ('a is non-zero')  # Note the indentation!!!"
   ]
  },
  {
   "cell_type": "markdown",
   "metadata": {
    "slideshow": {
     "slide_type": "slide"
    }
   },
   "source": [
    "Binary selection\n",
    "\n",
    "```cython\n",
    "if condition:\n",
    "    Python code that runs iff condition is True \n",
    "else:\n",
    "    Python code that runs iff condition is False \n",
    "    ...again, indentation is important\n",
    "```"
   ]
  },
  {
   "cell_type": "code",
   "execution_count": null,
   "metadata": {
    "slideshow": {
     "slide_type": "fragment"
    }
   },
   "outputs": [],
   "source": [
    "n = int(input('Enter a number: '))\n",
    "if n % 2 == 0:\n",
    "    print (\"Number is even\")\n",
    "else:\n",
    "    print (\"Number is odd\")\n",
    "print (\"Done\")"
   ]
  },
  {
   "cell_type": "markdown",
   "metadata": {
    "slideshow": {
     "slide_type": "slide"
    }
   },
   "source": [
    "<font color='red'>Exercise</font>: What is the output of \n",
    "```python\n",
    "x=3\n",
    "y=8\n",
    "z=5\n",
    "r=1.0\n",
    "if x < y > z < r:\n",
    "    print('T')\n",
    "else:\n",
    "    print('F')\n",
    "```\n",
    "Note: The comparison is performed between each pair of terms to be evaluated. "
   ]
  },
  {
   "cell_type": "markdown",
   "metadata": {
    "slideshow": {
     "slide_type": "slide"
    }
   },
   "source": [
    "#### Chained if statements"
   ]
  },
  {
   "cell_type": "markdown",
   "metadata": {
    "slideshow": {
     "slide_type": "fragment"
    }
   },
   "source": [
    "```cython\n",
    "if condition1:\n",
    "    Python code that runs iff condition1 is True \n",
    "elif condition2:\n",
    "    Python code that runs iff condition2 is True\n",
    "elif condition3:\n",
    "    Python code that runs iff condition3 is True\n",
    "else:\n",
    "    Python code that runs iff conditions 1-3 are False\n",
    "```"
   ]
  },
  {
   "cell_type": "code",
   "execution_count": null,
   "metadata": {
    "slideshow": {
     "slide_type": "fragment"
    }
   },
   "outputs": [],
   "source": [
    "n = int(input('Enter a number: '))\n",
    "if n < 0:\n",
    "    print ('n is negative')\n",
    "elif n > 0:\n",
    "    print ('n is positive')\n",
    "else:\n",
    "    print ('n is zero')"
   ]
  },
  {
   "cell_type": "markdown",
   "metadata": {
    "slideshow": {
     "slide_type": "slide"
    }
   },
   "source": [
    "Nested if statements\n",
    "```cython\n",
    "if condition1:\n",
    "    Python code that runs iff condition1 is True\n",
    "else:\n",
    "    Python code that runs iff condition1 is False\n",
    "    if condition2:\n",
    "        Python code that runs iff condition2 is True\n",
    "    else:\n",
    "        Python code that runs iff condition2 is False\n",
    "```"
   ]
  },
  {
   "cell_type": "code",
   "execution_count": null,
   "metadata": {
    "slideshow": {
     "slide_type": "fragment"
    }
   },
   "outputs": [],
   "source": [
    "n = int(input('Enter a number: '))\n",
    "if n > 0:\n",
    "    print ('n is positive')\n",
    "    if n % 2 == 0:\n",
    "        print ('...and also even')\n",
    "    else:\n",
    "        print ('...and also odd')\n",
    "else:\n",
    "    if n == 0:\n",
    "        print ('n is zero')\n",
    "    else:\n",
    "        print ('n is negative')"
   ]
  },
  {
   "cell_type": "markdown",
   "metadata": {},
   "source": [
    "---"
   ]
  },
  {
   "cell_type": "markdown",
   "metadata": {
    "slideshow": {
     "slide_type": "slide"
    }
   },
   "source": [
    "### While loop\n",
    "A while loop is similar to an if statement: it repeats an operation __while__ a condition is true. "
   ]
  },
  {
   "cell_type": "markdown",
   "metadata": {
    "slideshow": {
     "slide_type": "fragment"
    }
   },
   "source": [
    "```python\n",
    "while condition:\n",
    "    # python code , indented\n",
    "```"
   ]
  },
  {
   "cell_type": "markdown",
   "metadata": {
    "slideshow": {
     "slide_type": "fragment"
    }
   },
   "source": [
    "Beware: Whenever you write a while loop, think about an appropriate counting function. Else you can end up with an infinite loop."
   ]
  },
  {
   "cell_type": "code",
   "execution_count": 15,
   "metadata": {
    "slideshow": {
     "slide_type": "fragment"
    }
   },
   "outputs": [
    {
     "name": "stdout",
     "output_type": "stream",
     "text": [
      "1 2 3 4 5 \n",
      "sum =  15\n"
     ]
    }
   ],
   "source": [
    "sum = 0\n",
    "counter = 1\n",
    "n = 5\n",
    "while counter <= n:\n",
    "    print ('{} '.format(counter), end='') # end='' suppresses the newline character '\\n'\n",
    "    sum = sum + counter\n",
    "    counter += 1                # counter += 1\n",
    "\n",
    "print ('\\nsum = ',sum)"
   ]
  },
  {
   "cell_type": "markdown",
   "metadata": {
    "slideshow": {
     "slide_type": "slide"
    }
   },
   "source": [
    "#### <font color='blue'>break</font> statement"
   ]
  },
  {
   "cell_type": "code",
   "execution_count": 16,
   "metadata": {
    "slideshow": {
     "slide_type": "fragment"
    }
   },
   "outputs": [
    {
     "name": "stdout",
     "output_type": "stream",
     "text": [
      "132  is divisible by 11 and 12\n"
     ]
    }
   ],
   "source": [
    "# Example: Find the first positive integer divisible by both 11 AND 12\n",
    "\n",
    "x = 1\n",
    "while True:\n",
    "    if x % 11 == 0 and x % 12 == 0:\n",
    "        break\n",
    "    x = x + 1\n",
    "print (x,\" is divisible by 11 and 12\")"
   ]
  },
  {
   "cell_type": "markdown",
   "metadata": {
    "slideshow": {
     "slide_type": "slide"
    }
   },
   "source": [
    "## For loop\n",
    "A for loop can be used to simplify __iterations__ over <font color='blue'>sequences</font>"
   ]
  },
  {
   "cell_type": "markdown",
   "metadata": {
    "slideshow": {
     "slide_type": "fragment"
    }
   },
   "source": [
    "```cython\n",
    "for variable in sequence:\n",
    "    # Python code\n",
    "```"
   ]
  },
  {
   "cell_type": "code",
   "execution_count": 14,
   "metadata": {
    "slideshow": {
     "slide_type": "slide"
    }
   },
   "outputs": [
    {
     "name": "stdout",
     "output_type": "stream",
     "text": [
      "I\n",
      " \n",
      "l\n",
      "o\n",
      "v\n",
      "e\n",
      " \n",
      "P\n",
      "y\n",
      "t\n",
      "h\n",
      "o\n",
      "n\n"
     ]
    }
   ],
   "source": [
    "# Iterate over a string\n",
    "\n",
    "for c in 'I love Python':\n",
    "    print(c)"
   ]
  },
  {
   "cell_type": "code",
   "execution_count": null,
   "metadata": {
    "slideshow": {
     "slide_type": "slide"
    }
   },
   "outputs": [],
   "source": [
    "# Iterate over a range object (which is a sequence type)\n",
    "\n",
    "total = 0\n",
    "for i in range(0,6,2):\n",
    "    total = total + 1\n",
    "\n",
    "print(total)"
   ]
  },
  {
   "cell_type": "markdown",
   "metadata": {
    "slideshow": {
     "slide_type": "slide"
    }
   },
   "source": [
    "Use the keywords <font color='blue'>continue</font>, <font color='blue'>break</font>, or <font color='blue'>pass</font> to change the behavior of conditionals and loops."
   ]
  },
  {
   "cell_type": "code",
   "execution_count": null,
   "metadata": {
    "slideshow": {
     "slide_type": "fragment"
    }
   },
   "outputs": [],
   "source": [
    "total = 0\n",
    "\n",
    "for i in range(1,11):\n",
    "    if i == 3:\n",
    "        break           # Change different keywords - continue, break, or pass - to learn their behaviors\n",
    "    total += 1\n",
    "\n",
    "print('Total is ',total)"
   ]
  },
  {
   "cell_type": "markdown",
   "metadata": {
    "slideshow": {
     "slide_type": "fragment"
    }
   },
   "source": [
    "One can use multiple nested for loops:"
   ]
  },
  {
   "cell_type": "markdown",
   "metadata": {
    "slideshow": {
     "slide_type": "fragment"
    }
   },
   "source": [
    "```cython\n",
    "for var1 in seq1:\n",
    "    for var2 in seq2:    \n",
    "          # do something\n",
    "```"
   ]
  },
  {
   "cell_type": "markdown",
   "metadata": {
    "slideshow": {
     "slide_type": "slide"
    }
   },
   "source": [
    "<font color='red'>Exercise</font>: Use loops to print the following sequence:\n",
    "```python\n",
    "1\n",
    "22\n",
    "333\n",
    "4444\n",
    "55555\n",
    "666666\n",
    "7777777\n",
    "88888888\n",
    "999999999\n",
    "```"
   ]
  },
  {
   "cell_type": "markdown",
   "metadata": {
    "slideshow": {
     "slide_type": "slide"
    }
   },
   "source": [
    "#### <font color='blue'>while-else</font>\n",
    "Similar to if-else:"
   ]
  },
  {
   "cell_type": "code",
   "execution_count": null,
   "metadata": {
    "slideshow": {
     "slide_type": "fragment"
    }
   },
   "outputs": [],
   "source": [
    "import random\n",
    "count = 0\n",
    "while count < 3:       # Execute while True\n",
    "    num = random.randint(1, 6)\n",
    "    print(num)\n",
    "    if num % 2 == 0:\n",
    "        print(\"You lose!\")\n",
    "        break          # If the loop exits as the result of a break, the else will not be executed.\n",
    "    count += 1\n",
    "else:                  # the else block will execute anytime the loop condition is evaluated to False. \n",
    "    print(\"You win!\")"
   ]
  },
  {
   "cell_type": "markdown",
   "metadata": {
    "slideshow": {
     "slide_type": "slide"
    }
   },
   "source": [
    "#### <font color='blue'>for-else</font>\n",
    "Similar to while-else:"
   ]
  },
  {
   "cell_type": "code",
   "execution_count": null,
   "metadata": {
    "slideshow": {
     "slide_type": "fragment"
    }
   },
   "outputs": [],
   "source": [
    "fruits = ['banana', 'apple', 'orange', 'mango', 'pear', 'grape']\n",
    "for f in fruits:\n",
    "    if f == 'carrot':\n",
    "        print ('A carrot is not a fruit!')\n",
    "        break\n",
    "    print (f)\n",
    "else:\n",
    "    print ('A fine selection of fruits!')"
   ]
  },
  {
   "cell_type": "markdown",
   "metadata": {
    "slideshow": {
     "slide_type": "slide"
    }
   },
   "source": [
    "#### <font color='blue'>enumerate</font>\n",
    "supplies corresponding index to each element in the list that you pass it."
   ]
  },
  {
   "cell_type": "code",
   "execution_count": null,
   "metadata": {
    "slideshow": {
     "slide_type": "fragment"
    }
   },
   "outputs": [],
   "source": [
    "choices = ['pizza', 'pasta', 'salad', 'nachos']\n",
    "for index, item in enumerate(choices):\n",
    "    print(index, item)"
   ]
  },
  {
   "cell_type": "markdown",
   "metadata": {
    "slideshow": {
     "slide_type": "slide"
    }
   },
   "source": [
    "#### <font color='blue'>zip</font>\n",
    "iterate over more than two lists"
   ]
  },
  {
   "cell_type": "code",
   "execution_count": null,
   "metadata": {
    "slideshow": {
     "slide_type": "fragment"
    }
   },
   "outputs": [],
   "source": [
    "list_a = [3, 9, 17, 15, 19]\n",
    "list_b = [2, 4, 8, 10, 30, 40, 50, 60, 70, 80, 90]\n",
    "for a, b in zip(list_a, list_b):\n",
    "    if a>b:\n",
    "        print(a)\n",
    "    else:\n",
    "        print(b)"
   ]
  }
 ],
 "metadata": {
  "anaconda-cloud": {},
  "celltoolbar": "Slideshow",
  "kernelspec": {
   "display_name": "Python 3",
   "language": "python",
   "name": "python3"
  },
  "language_info": {
   "codemirror_mode": {
    "name": "ipython",
    "version": 3
   },
   "file_extension": ".py",
   "mimetype": "text/x-python",
   "name": "python",
   "nbconvert_exporter": "python",
   "pygments_lexer": "ipython3",
   "version": "3.7.3"
  }
 },
 "nbformat": 4,
 "nbformat_minor": 4
}
